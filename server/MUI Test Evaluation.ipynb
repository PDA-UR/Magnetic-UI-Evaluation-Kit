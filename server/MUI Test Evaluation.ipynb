{
 "cells": [
  {
   "cell_type": "code",
   "execution_count": 1,
   "metadata": {},
   "outputs": [],
   "source": [
    "import csv\n",
    "%matplotlib inline\n",
    "from pylab import *\n",
    "rcParams['figure.figsize'] = (16,9)\n",
    "rcParams['font.size'] = 12\n",
    "import numpy as np\n",
    "import scipy as sp\n",
    "import os \n",
    "import glob\n",
    "import pandas as pd\n",
    "import seaborn as sns\n",
    "\n",
    "#pd.set_option(\"display.max_rows\", None, \"display.max_columns\", None)\n",
    "\n",
    "data_path = os.getcwd()\n",
    "data_extension = \"csv\"\n",
    "\n",
    "os.chdir(data_path)"
   ]
  },
  {
   "cell_type": "code",
   "execution_count": 2,
   "metadata": {},
   "outputs": [
    {
     "name": "stdout",
     "output_type": "stream",
     "text": [
      "['logSpeed01.csv', '2405-0.csv', '1337-2.csv', '1337-1.csv', 'logSpeed00FasterDPI.csv', '2405-2.csv', '2405-1.csv', 'logSpeed02.csv', '1337-0.csv', 'logSpeed00.csv', '1337-3.csv', '2405-3.csv']\n"
     ]
    }
   ],
   "source": [
    "result = glob.glob('*.{}'.format(data_extension))\n",
    "\n",
    "print(result)"
   ]
  },
  {
   "cell_type": "code",
   "execution_count": 3,
   "metadata": {},
   "outputs": [],
   "source": [
    "dff = [pd.read_csv(f, delimiter = ',') for f in result]\n",
    "\n",
    "concats = {}\n",
    "\n",
    "for df in dff:\n",
    "    condition_id = list(df[\"condition_id\"])[0]\n",
    "    \n",
    "    if not condition_id in concats:\n",
    "        concats[condition_id] = df\n",
    "    else:\n",
    "        concats[condition_id] = pd.concat([concats[condition_id], df])\n",
    "        \n",
    "dff = concats.values()\n",
    "\n",
    "pids = list(concats[0].pid.unique())"
   ]
  },
  {
   "cell_type": "code",
   "execution_count": 4,
   "metadata": {},
   "outputs": [],
   "source": [
    "import math\n",
    "\n",
    "class Run:\n",
    "    def __init__(self, data):\n",
    "        self.data = data\n",
    "                \n",
    "        self.condition = list(data[\"condition_id\"])[0]\n",
    "        \n",
    "        self.pid = list(data[\"pid\"])[-1]        \n",
    "        self.run_id = list(data[\"run_id\"])[-1]\n",
    "        self.run_starttime = list(data[\"timestampConditionStart\"])[-1]\n",
    "        \n",
    "        self.successful_click_time = list(data[\"timestampClick\"])[0]\n",
    "        \n",
    "        self.errors = -1\n",
    "    \n",
    "        for i in list(data[\"timestampClick\"]):\n",
    "            if self.successful_click_time != i:\n",
    "                self.errors += 1\n",
    "                self.successful_click_time = i\n",
    "                \n",
    "        self.run_duration = self.successful_click_time - self.run_starttime\n",
    "        \n",
    "        ###########################\n",
    "        self.collisions = 0\n",
    "        initial_collision_ts = list(data[\"timestampCollision\"])[0]\n",
    "\n",
    "        for i in list(data[\"timestampCollision\"]):\n",
    "            if initial_collision_ts != i:\n",
    "                self.collisions += 1\n",
    "                initial_collision_ts = i\n",
    "                \n",
    "        self.run_duration = self.successful_click_time - self.run_starttime\n",
    "        \n",
    "        \n",
    "        ##############################\n",
    "       \n",
    "        self.num_cursor_movements = 0\n",
    "        self.cursor_movement_length = 0\n",
    "        self.num_target_movements = 0\n",
    "        self.target_movement_length = 0\n",
    "        \n",
    "        initial_cursor_x = int(float(list(data[\"cursorX\"])[0]))\n",
    "        initial_cursor_y = int(float(list(data[\"cursorY\"])[0]))\n",
    "        initial_target_x = int(float(list(data[\"targetX\"])[0]))\n",
    "        initial_target_y = int(float(list(data[\"targetY\"])[0]))\n",
    "        \n",
    "        for i in range(0, len(list(data[\"cursorX\"]))):\n",
    "            x, y = int(float(list(data[\"cursorX\"])[i])), int(float(list(data[\"cursorY\"])[i]))\n",
    "            tx, ty = int(float(list(data[\"targetX\"])[i])), int(float(list(data[\"targetY\"])[i]))\n",
    "            \n",
    "            if x != initial_cursor_x or y != initial_cursor_y:\n",
    "                self.cursor_movement_length += self.vector_length(x - initial_cursor_x, y - initial_cursor_y)\n",
    "                self.num_cursor_movements += 1\n",
    "                initial_cursor_x = x\n",
    "                initial_cursor_y = y\n",
    "                \n",
    "            if tx != initial_target_x or ty != initial_target_y:\n",
    "                self.num_target_movements += 1\n",
    "                self.target_movement_length += self.vector_length(tx - initial_target_x, ty - initial_target_y)\n",
    "                initial_target_x = tx\n",
    "                initial_target_y = ty\n",
    "              \n",
    "    def __repr__(self):\n",
    "        return \"condition:{0}\\npid: {1}\\nrun_id: {2}\\ncollisions:{3}\\nerrors:{4}\\nduration:{5} ms\\ncursor movements:{6}\\ncursor movement length:{7}\\ntarget movements:{8}\\ntarget movement length:{9}\\n\\n\".format(\n",
    "            self.condition,\n",
    "            self.pid,\n",
    "            self.run_id,\n",
    "            self.collisions,\n",
    "            self.errors,\n",
    "            self.run_duration,\n",
    "            self.num_cursor_movements,\n",
    "            self.cursor_movement_length,\n",
    "            self.num_target_movements,\n",
    "            self.target_movement_length)\n",
    "    \n",
    "    def vector_length(self, u, v):\n",
    "        return math.sqrt(u * u + v * v)\n",
    "    "
   ]
  },
  {
   "cell_type": "code",
   "execution_count": 5,
   "metadata": {},
   "outputs": [],
   "source": [
    "conditions = []\n",
    "\n",
    "for df in dff:\n",
    "    conditions.append([])\n",
    "    \n",
    "    for pid in pids:\n",
    "        dfp = df[df[\"pid\"] == pid]\n",
    "        \n",
    "        for rid in range(1, max(df[\"run_id\"])):\n",
    "            dfpr = dfp[dfp[\"run_id\"] == rid]\n",
    "            \n",
    "            conditions[-1].append(Run(dfpr))"
   ]
  },
  {
   "cell_type": "markdown",
   "metadata": {},
   "source": [
    "# Results"
   ]
  },
  {
   "cell_type": "markdown",
   "metadata": {},
   "source": [
    "## Duration"
   ]
  },
  {
   "cell_type": "code",
   "execution_count": 6,
   "metadata": {},
   "outputs": [
    {
     "name": "stdout",
     "output_type": "stream",
     "text": [
      "condition: Factor 0.5 MUI has mean duration of 824.1245791245791 ms\n",
      "condition: Factor 0.5 MUI has median duration of 817.0 ms\n",
      "\n",
      "condition: Static UI has mean duration of 835.7037037037037 ms\n",
      "condition: Static UI has median duration of 818.0 ms\n",
      "\n",
      "condition: Factor 1 MUI has mean duration of 859.4680134680135 ms\n",
      "condition: Factor 1 MUI has median duration of 857.0 ms\n",
      "\n",
      "condition: Static UI with 1.5x CD Gain has mean duration of 853.7441077441077 ms\n",
      "condition: Static UI with 1.5x CD Gain has median duration of 820.0 ms\n",
      "\n"
     ]
    },
    {
     "data": {
      "text/plain": [
       "([<matplotlib.axis.XTick at 0x7f402cb644c0>,\n",
       "  <matplotlib.axis.XTick at 0x7f402cb64490>,\n",
       "  <matplotlib.axis.XTick at 0x7f402cb14940>,\n",
       "  <matplotlib.axis.XTick at 0x7f402cae4f70>],\n",
       " [Text(0, 0, 'Factor 0.5 MUI'),\n",
       "  Text(0, 0, 'Static UI'),\n",
       "  Text(0, 0, 'Factor 1 MUI'),\n",
       "  Text(0, 0, 'Static UI with 1.5x CD Gain')])"
      ]
     },
     "execution_count": 6,
     "metadata": {},
     "output_type": "execute_result"
    },
    {
     "data": {
      "image/png": "[encoded data removed]",
      "text/plain": [
       "<Figure size 1152x648 with 1 Axes>"
      ]
     },
     "metadata": {
      "needs_background": "light"
     },
     "output_type": "display_data"
    }
   ],
   "source": [
    "durations = {}\n",
    "\n",
    "for condition in conditions:\n",
    "    durations[condition[0].condition] = [run.run_duration for run in condition]\n",
    "        \n",
    "ticks = []\n",
    "data = []\n",
    "\n",
    "for condition, duration_measurements in durations.items(): \n",
    "    cond_name = \"Static UI\" if condition == 0 else \"Factor 0.5 MUI\" if condition == 1 else \"Factor 1 MUI\" if condition == 2 else \"Static UI with 1.5x CD Gain\"\n",
    "    \n",
    "    print(\"condition: {0} has mean duration of {1} ms\".format(cond_name, np.mean(duration_measurements)))\n",
    "    print(\"condition: {0} has median duration of {1} ms\".format(cond_name, np.median(duration_measurements)))\n",
    "    print()\n",
    "    \n",
    "    data.append(duration_measurements)\n",
    "    ticks.append(cond_name)\n",
    "\n",
    "fig = plt.figure()\n",
    "fig.suptitle('TCT Comparison between static UI and MUI variants', fontsize=14, fontweight='bold')\n",
    "\n",
    "ax = fig.add_subplot(111)\n",
    "ax.boxplot(data)\n",
    "ax.set_xlabel('UI variants')\n",
    "ax.set_ylabel('Task Completion Time in ms')\n",
    "ax.set_ylim(ymin=0)\n",
    "xticks([i + 1 for i in range(len(ticks))], ticks)\n"
   ]
  },
  {
   "cell_type": "code",
   "execution_count": 7,
   "metadata": {},
   "outputs": [
    {
     "name": "stdout",
     "output_type": "stream",
     "text": [
      "Static UI vs Static UI with 1.5x CD Gain -> p = 0.1756889053453867\n",
      "Static UI with 1.5x CD Gain vs MUI with movement factor 0.5 -> p = 0.031501864981067516\n",
      "Static UI with 1.5x CD Gain vs MUI with movement factor 1 -> p = 0.7004894263843263\n",
      "Static UI vs MUI with movement factor 0.5 -> p = 0.36947535570042067\n",
      "Static UI vs MUI with movement factor 1 -> p = 0.11859281187337181\n",
      "MUI05 vs MUI1 -> p = 0.015471368457919613\n"
     ]
    }
   ],
   "source": [
    "from scipy.stats import ttest_rel as ttest\n",
    "\n",
    "static_durations = durations[0]\n",
    "factor05_durations = durations[1]\n",
    "factor1_durations = durations[2]\n",
    "static15cdg_durations = durations[3]\n",
    "\n",
    "print(\"Static UI vs Static UI with 1.5x CD Gain -> p = {}\".format(ttest(static_durations, static15cdg_durations)[1]))\n",
    "print(\"Static UI with 1.5x CD Gain vs MUI with movement factor 0.5 -> p = {}\".format(ttest(factor05_durations, static15cdg_durations)[1]))\n",
    "print(\"Static UI with 1.5x CD Gain vs MUI with movement factor 1 -> p = {}\".format(ttest(factor1_durations, static15cdg_durations)[1]))\n",
    "print(\"Static UI vs MUI with movement factor 0.5 -> p = {}\".format(ttest(static_durations, factor05_durations)[1]))\n",
    "print(\"Static UI vs MUI with movement factor 1 -> p = {}\".format(ttest(static_durations, factor1_durations)[1]))\n",
    "print(\"MUI05 vs MUI1 -> p = {}\".format(ttest(factor05_durations, factor1_durations)[1]))"
   ]
  },
  {
   "cell_type": "markdown",
   "metadata": {},
   "source": [
    "## Errors"
   ]
  },
  {
   "cell_type": "code",
   "execution_count": 8,
   "metadata": {},
   "outputs": [
    {
     "name": "stdout",
     "output_type": "stream",
     "text": [
      "Errors for static UI: 33\n",
      "Errors for MUI with movement factor 0.5: 32\n",
      "Errors for MUI with movement factor 1: 39\n",
      "Errors for static UI with 1.5x CD Gain: 42\n",
      "\n",
      "Error rate are somewhat the same when ignoring static UI with 1.5 CD Gain.\n",
      "Including the static UI with 1.5 CD Gain the amount of errors increased porbably in a way which cannot be seen as insignificant.\n",
      "\n",
      "Error increase in percent for static UI vs static UI with 1.5x CD Gain: 27.272727272727266%\n",
      "This means, that during the selection task with static UI with 1.5x CD Gain participants made 27.272727272727266% more mistakes compared to static UI with default CD Gain.\n",
      "\n",
      "Error increase in percent for static UI vs MUI with factor 0.5: -3.030303030303031%\n",
      "MUI with factor 0.5 had 3.030303030303031% less mistakes than static UI\n",
      "\n",
      "Error increase in percent for static UI vs MUI with factor 1: 18.181818181818173%\n",
      "MUI with factor 1 had 18.181818181818173% more mistakes than static UI\n",
      "\n",
      "Error increase in percent for static UI with 1.5x CD Gain vs MUI with factor 0.5: -23.80952380952381%\n",
      "MUI with factor 0.5 had 23.80952380952381% less mistakes than static UI with 1.5x CD Gain\n",
      "\n",
      "Error increase in percent for static UI with 1.5x CD Gain vs MUI with factor 1: -7.142857142857139%\n",
      "MUI with factor 1 had 7.142857142857139% less mistakes than static UI with 1.5x CD Gain\n",
      "\n",
      "Error increase in percent for MUI with factor 1 vs MUI with factor 0.5: -17.948717948717956%\n",
      "MUI with factor 0.5 had 17.948717948717956% less mistakes than MUI with factor 1\n"
     ]
    }
   ],
   "source": [
    "def increase_in_percent(counter, denominator):\n",
    "    return (counter / (denominator / 100)) - 100\n",
    "\n",
    "errors = {}\n",
    "\n",
    "for condition in conditions:\n",
    "    errors[condition[0].condition] = sum([run.errors for run in condition])\n",
    "    \n",
    "static_errors = errors[0]\n",
    "factor05_errors = errors[1]\n",
    "factor1_errors = errors[2]\n",
    "static15cdg_errors = errors[3]\n",
    "\n",
    "\n",
    "print(\"Errors for static UI: {}\".format(static_errors))\n",
    "print(\"Errors for MUI with movement factor 0.5: {}\".format(factor05_errors))\n",
    "print(\"Errors for MUI with movement factor 1: {}\".format(factor1_errors))\n",
    "print(\"Errors for static UI with 1.5x CD Gain: {}\".format(static15cdg_errors))\n",
    "print()\n",
    "print(\"Error rate are somewhat the same when ignoring static UI with 1.5 CD Gain.\")\n",
    "print(\"Including the static UI with 1.5 CD Gain the amount of errors increased porbably in a way which cannot be seen as insignificant.\")\n",
    "print()\n",
    "print(\"Error increase in percent for static UI vs static UI with 1.5x CD Gain: {}%\".format(increase_in_percent(static15cdg_errors, static_errors)))\n",
    "print(\"This means, that during the selection task with static UI with 1.5x CD Gain participants made {}% more mistakes compared to static UI with default CD Gain.\".format(increase_in_percent(static15cdg_errors, static_errors)))\n",
    "print()\n",
    "print(\"Error increase in percent for static UI vs MUI with factor 0.5: {}%\".format(increase_in_percent(factor05_errors, static_errors)))\n",
    "print(\"MUI with factor 0.5 had {}% less mistakes than static UI\".format(abs(increase_in_percent(factor05_errors, static_errors))))\n",
    "print()\n",
    "print(\"Error increase in percent for static UI vs MUI with factor 1: {}%\".format(increase_in_percent(factor1_errors, static_errors)))\n",
    "print(\"MUI with factor 1 had {}% more mistakes than static UI\".format(increase_in_percent(factor1_errors, static_errors)))\n",
    "print()\n",
    "print(\"Error increase in percent for static UI with 1.5x CD Gain vs MUI with factor 0.5: {}%\".format(increase_in_percent(factor05_errors, static15cdg_errors)))\n",
    "print(\"MUI with factor 0.5 had {}% less mistakes than static UI with 1.5x CD Gain\".format(abs(increase_in_percent(factor05_errors, static15cdg_errors))))\n",
    "print()\n",
    "print(\"Error increase in percent for static UI with 1.5x CD Gain vs MUI with factor 1: {}%\".format(increase_in_percent(factor1_errors, static15cdg_errors)))\n",
    "print(\"MUI with factor 1 had {}% less mistakes than static UI with 1.5x CD Gain\".format(abs(increase_in_percent(factor1_errors, static15cdg_errors))))\n",
    "print()\n",
    "print(\"Error increase in percent for MUI with factor 1 vs MUI with factor 0.5: {}%\".format(increase_in_percent(factor05_errors, factor1_errors)))\n",
    "print(\"MUI with factor 0.5 had {}% less mistakes than MUI with factor 1\".format(abs(increase_in_percent(factor05_errors, factor1_errors))))\n",
    "\n"
   ]
  },
  {
   "cell_type": "markdown",
   "metadata": {},
   "source": [
    "## Covered Distances"
   ]
  },
  {
   "cell_type": "code",
   "execution_count": 9,
   "metadata": {},
   "outputs": [],
   "source": [
    "# covered_distance\n",
    "mean_covered_distances_cursor = {}\n",
    "\n",
    "for condition in conditions:\n",
    "    mean_covered_distances_cursor[condition[0].condition] = sum([run.cursor_movement_length for run in condition]) / len([run.cursor_movement_length for run in condition])"
   ]
  },
  {
   "cell_type": "code",
   "execution_count": 10,
   "metadata": {},
   "outputs": [
    {
     "name": "stdout",
     "output_type": "stream",
     "text": [
      "Mean covered distance of cursor for static UI: 407.93962632278925px\n",
      "Mean covered distance of cursor for MUI with movement factor 0.5: 295.90516221955215px\n",
      "Mean covered distance of cursor for MUI with movement factor 1: 234.6345012516454px\n",
      "Mean covered distance of cursor for static UI with 1.5x CD Gain: 424.20303915781px\n"
     ]
    }
   ],
   "source": [
    "static_mean_covered_distance = mean_covered_distances_cursor[0]\n",
    "factor05_mean_covered_distance = mean_covered_distances_cursor[1]\n",
    "factor1_mean_covered_distance = mean_covered_distances_cursor[2]\n",
    "static15cdg_mean_covered_distance = mean_covered_distances_cursor[3]\n",
    "\n",
    "\n",
    "print(\"Mean covered distance of cursor for static UI: {}px\".format(static_mean_covered_distance))\n",
    "print(\"Mean covered distance of cursor for MUI with movement factor 0.5: {}px\".format(factor05_mean_covered_distance))\n",
    "print(\"Mean covered distance of cursor for MUI with movement factor 1: {}px\".format(factor1_mean_covered_distance))\n",
    "print(\"Mean covered distance of cursor for static UI with 1.5x CD Gain: {}px\".format(static15cdg_mean_covered_distance))"
   ]
  },
  {
   "cell_type": "markdown",
   "metadata": {},
   "source": [
    "## Most notable observation"
   ]
  },
  {
   "cell_type": "markdown",
   "metadata": {},
   "source": [
    "WIP"
   ]
  },
  {
   "cell_type": "code",
   "execution_count": null,
   "metadata": {},
   "outputs": [],
   "source": []
  },
  {
   "cell_type": "code",
   "execution_count": null,
   "metadata": {},
   "outputs": [],
   "source": []
  }
 ],
 "metadata": {
  "kernelspec": {
   "display_name": "Python 3",
   "language": "python",
   "name": "python3"
  },
  "language_info": {
   "codemirror_mode": {
    "name": "ipython",
    "version": 3
   },
   "file_extension": ".py",
   "mimetype": "text/x-python",
   "name": "python",
   "nbconvert_exporter": "python",
   "pygments_lexer": "ipython3",
   "version": "3.8.5"
  }
 },
 "nbformat": 4,
 "nbformat_minor": 4
}

{
 "cells": [
  {
   "cell_type": "code",
   "execution_count": 1,
   "metadata": {
    "execution": {
     "iopub.execute_input": "2021-02-09T10:42:41.274401Z",
     "iopub.status.busy": "2021-02-09T10:42:41.273317Z",
     "iopub.status.idle": "2021-02-09T10:42:42.572544Z",
     "shell.execute_reply": "2021-02-09T10:42:42.573049Z"
    }
   },
   "outputs": [],
   "source": [
    "import csv\n",
    "%matplotlib inline\n",
    "from pylab import *\n",
    "rcParams['figure.figsize'] = (16,9)\n",
    "rcParams['font.size'] = 12\n",
    "import numpy as np\n",
    "import scipy as sp\n",
    "import os \n",
    "import glob\n",
    "import pandas as pd\n",
    "import seaborn as sns\n",
    "\n",
    "#pd.set_option(\"display.max_rows\", None, \"display.max_columns\", None)\n",
    "\n",
    "data_path = os.getcwd()\n",
    "data_extension = \"csv\"\n",
    "\n",
    "os.chdir(data_path)"
   ]
  },
  {
   "cell_type": "code",
   "execution_count": 2,
   "metadata": {
    "execution": {
     "iopub.execute_input": "2021-02-09T10:42:42.577518Z",
     "iopub.status.busy": "2021-02-09T10:42:42.576420Z",
     "iopub.status.idle": "2021-02-09T10:42:42.580666Z",
     "shell.execute_reply": "2021-02-09T10:42:42.581327Z"
    }
   },
   "outputs": [
    {
     "name": "stdout",
     "output_type": "stream",
     "text": [
      "['1231-1.csv', '1337-2.csv', '1337-3.csv', '1231-0.csv', '1231-2.csv', '1337-1.csv', '1337-0.csv', '1231-3.csv']\n"
     ]
    }
   ],
   "source": [
    "result = glob.glob('*.{}'.format(data_extension))\n",
    "\n",
    "print(result)"
   ]
  },
  {
   "cell_type": "code",
   "execution_count": 3,
   "metadata": {
    "execution": {
     "iopub.execute_input": "2021-02-09T10:42:42.588228Z",
     "iopub.status.busy": "2021-02-09T10:42:42.587163Z",
     "iopub.status.idle": "2021-02-09T10:42:42.636182Z",
     "shell.execute_reply": "2021-02-09T10:42:42.636776Z"
    }
   },
   "outputs": [
    {
     "ename": "KeyError",
     "evalue": "'condition_id'",
     "output_type": "error",
     "traceback": [
      "\u001b[0;31m---------------------------------------------------------------------------\u001b[0m",
      "\u001b[0;31mKeyError\u001b[0m                                  Traceback (most recent call last)",
      "\u001b[0;32m/Library/Frameworks/Python.framework/Versions/3.9/lib/python3.9/site-packages/pandas/core/indexes/base.py\u001b[0m in \u001b[0;36mget_loc\u001b[0;34m(self, key, method, tolerance)\u001b[0m\n\u001b[1;32m   3079\u001b[0m             \u001b[0;32mtry\u001b[0m\u001b[0;34m:\u001b[0m\u001b[0;34m\u001b[0m\u001b[0;34m\u001b[0m\u001b[0m\n\u001b[0;32m-> 3080\u001b[0;31m                 \u001b[0;32mreturn\u001b[0m \u001b[0mself\u001b[0m\u001b[0;34m.\u001b[0m\u001b[0m_engine\u001b[0m\u001b[0;34m.\u001b[0m\u001b[0mget_loc\u001b[0m\u001b[0;34m(\u001b[0m\u001b[0mcasted_key\u001b[0m\u001b[0;34m)\u001b[0m\u001b[0;34m\u001b[0m\u001b[0;34m\u001b[0m\u001b[0m\n\u001b[0m\u001b[1;32m   3081\u001b[0m             \u001b[0;32mexcept\u001b[0m \u001b[0mKeyError\u001b[0m \u001b[0;32mas\u001b[0m \u001b[0merr\u001b[0m\u001b[0;34m:\u001b[0m\u001b[0;34m\u001b[0m\u001b[0;34m\u001b[0m\u001b[0m\n",
      "\u001b[0;32mpandas/_libs/index.pyx\u001b[0m in \u001b[0;36mpandas._libs.index.IndexEngine.get_loc\u001b[0;34m()\u001b[0m\n",
      "\u001b[0;32mpandas/_libs/index.pyx\u001b[0m in \u001b[0;36mpandas._libs.index.IndexEngine.get_loc\u001b[0;34m()\u001b[0m\n",
      "\u001b[0;32mpandas/_libs/hashtable_class_helper.pxi\u001b[0m in \u001b[0;36mpandas._libs.hashtable.PyObjectHashTable.get_item\u001b[0;34m()\u001b[0m\n",
      "\u001b[0;32mpandas/_libs/hashtable_class_helper.pxi\u001b[0m in \u001b[0;36mpandas._libs.hashtable.PyObjectHashTable.get_item\u001b[0;34m()\u001b[0m\n",
      "\u001b[0;31mKeyError\u001b[0m: 'condition_id'",
      "\nThe above exception was the direct cause of the following exception:\n",
      "\u001b[0;31mKeyError\u001b[0m                                  Traceback (most recent call last)",
      "\u001b[0;32m<ipython-input-3-729e928eaf81>\u001b[0m in \u001b[0;36m<module>\u001b[0;34m\u001b[0m\n\u001b[1;32m      4\u001b[0m \u001b[0;34m\u001b[0m\u001b[0m\n\u001b[1;32m      5\u001b[0m \u001b[0;32mfor\u001b[0m \u001b[0mdf\u001b[0m \u001b[0;32min\u001b[0m \u001b[0mdff\u001b[0m\u001b[0;34m:\u001b[0m\u001b[0;34m\u001b[0m\u001b[0;34m\u001b[0m\u001b[0m\n\u001b[0;32m----> 6\u001b[0;31m     \u001b[0mcondition_id\u001b[0m \u001b[0;34m=\u001b[0m \u001b[0mlist\u001b[0m\u001b[0;34m(\u001b[0m\u001b[0mdf\u001b[0m\u001b[0;34m[\u001b[0m\u001b[0;34m\"condition_id\"\u001b[0m\u001b[0;34m]\u001b[0m\u001b[0;34m)\u001b[0m\u001b[0;34m[\u001b[0m\u001b[0;36m0\u001b[0m\u001b[0;34m]\u001b[0m\u001b[0;34m\u001b[0m\u001b[0;34m\u001b[0m\u001b[0m\n\u001b[0m\u001b[1;32m      7\u001b[0m \u001b[0;34m\u001b[0m\u001b[0m\n\u001b[1;32m      8\u001b[0m     \u001b[0;32mif\u001b[0m \u001b[0;32mnot\u001b[0m \u001b[0mcondition_id\u001b[0m \u001b[0;32min\u001b[0m \u001b[0mconcats\u001b[0m\u001b[0;34m:\u001b[0m\u001b[0;34m\u001b[0m\u001b[0;34m\u001b[0m\u001b[0m\n",
      "\u001b[0;32m/Library/Frameworks/Python.framework/Versions/3.9/lib/python3.9/site-packages/pandas/core/frame.py\u001b[0m in \u001b[0;36m__getitem__\u001b[0;34m(self, key)\u001b[0m\n\u001b[1;32m   3022\u001b[0m             \u001b[0;32mif\u001b[0m \u001b[0mself\u001b[0m\u001b[0;34m.\u001b[0m\u001b[0mcolumns\u001b[0m\u001b[0;34m.\u001b[0m\u001b[0mnlevels\u001b[0m \u001b[0;34m>\u001b[0m \u001b[0;36m1\u001b[0m\u001b[0;34m:\u001b[0m\u001b[0;34m\u001b[0m\u001b[0;34m\u001b[0m\u001b[0m\n\u001b[1;32m   3023\u001b[0m                 \u001b[0;32mreturn\u001b[0m \u001b[0mself\u001b[0m\u001b[0;34m.\u001b[0m\u001b[0m_getitem_multilevel\u001b[0m\u001b[0;34m(\u001b[0m\u001b[0mkey\u001b[0m\u001b[0;34m)\u001b[0m\u001b[0;34m\u001b[0m\u001b[0;34m\u001b[0m\u001b[0m\n\u001b[0;32m-> 3024\u001b[0;31m             \u001b[0mindexer\u001b[0m \u001b[0;34m=\u001b[0m \u001b[0mself\u001b[0m\u001b[0;34m.\u001b[0m\u001b[0mcolumns\u001b[0m\u001b[0;34m.\u001b[0m\u001b[0mget_loc\u001b[0m\u001b[0;34m(\u001b[0m\u001b[0mkey\u001b[0m\u001b[0;34m)\u001b[0m\u001b[0;34m\u001b[0m\u001b[0;34m\u001b[0m\u001b[0m\n\u001b[0m\u001b[1;32m   3025\u001b[0m             \u001b[0;32mif\u001b[0m \u001b[0mis_integer\u001b[0m\u001b[0;34m(\u001b[0m\u001b[0mindexer\u001b[0m\u001b[0;34m)\u001b[0m\u001b[0;34m:\u001b[0m\u001b[0;34m\u001b[0m\u001b[0;34m\u001b[0m\u001b[0m\n\u001b[1;32m   3026\u001b[0m                 \u001b[0mindexer\u001b[0m \u001b[0;34m=\u001b[0m \u001b[0;34m[\u001b[0m\u001b[0mindexer\u001b[0m\u001b[0;34m]\u001b[0m\u001b[0;34m\u001b[0m\u001b[0;34m\u001b[0m\u001b[0m\n",
      "\u001b[0;32m/Library/Frameworks/Python.framework/Versions/3.9/lib/python3.9/site-packages/pandas/core/indexes/base.py\u001b[0m in \u001b[0;36mget_loc\u001b[0;34m(self, key, method, tolerance)\u001b[0m\n\u001b[1;32m   3080\u001b[0m                 \u001b[0;32mreturn\u001b[0m \u001b[0mself\u001b[0m\u001b[0;34m.\u001b[0m\u001b[0m_engine\u001b[0m\u001b[0;34m.\u001b[0m\u001b[0mget_loc\u001b[0m\u001b[0;34m(\u001b[0m\u001b[0mcasted_key\u001b[0m\u001b[0;34m)\u001b[0m\u001b[0;34m\u001b[0m\u001b[0;34m\u001b[0m\u001b[0m\n\u001b[1;32m   3081\u001b[0m             \u001b[0;32mexcept\u001b[0m \u001b[0mKeyError\u001b[0m \u001b[0;32mas\u001b[0m \u001b[0merr\u001b[0m\u001b[0;34m:\u001b[0m\u001b[0;34m\u001b[0m\u001b[0;34m\u001b[0m\u001b[0m\n\u001b[0;32m-> 3082\u001b[0;31m                 \u001b[0;32mraise\u001b[0m \u001b[0mKeyError\u001b[0m\u001b[0;34m(\u001b[0m\u001b[0mkey\u001b[0m\u001b[0;34m)\u001b[0m \u001b[0;32mfrom\u001b[0m \u001b[0merr\u001b[0m\u001b[0;34m\u001b[0m\u001b[0;34m\u001b[0m\u001b[0m\n\u001b[0m\u001b[1;32m   3083\u001b[0m \u001b[0;34m\u001b[0m\u001b[0m\n\u001b[1;32m   3084\u001b[0m         \u001b[0;32mif\u001b[0m \u001b[0mtolerance\u001b[0m \u001b[0;32mis\u001b[0m \u001b[0;32mnot\u001b[0m \u001b[0;32mNone\u001b[0m\u001b[0;34m:\u001b[0m\u001b[0;34m\u001b[0m\u001b[0;34m\u001b[0m\u001b[0m\n",
      "\u001b[0;31mKeyError\u001b[0m: 'condition_id'"
     ]
    }
   ],
   "source": [
    "dff = [pd.read_csv(f, delimiter = ',') for f in result]\n",
    "\n",
    "concats = {}\n",
    "\n",
    "for df in dff:\n",
    "    condition_id = list(df[\"condition_id\"])[0]\n",
    "    \n",
    "    if not condition_id in concats:\n",
    "        concats[condition_id] = df\n",
    "    else:\n",
    "        concats[condition_id] = pd.concat([concats[condition_id], df])\n",
    "        \n",
    "dff = concats.values()\n",
    "\n",
    "pids = list(concats[0].pid.unique())"
   ]
  },
  {
   "cell_type": "code",
   "execution_count": null,
   "metadata": {
    "execution": {
     "iopub.execute_input": "2021-02-09T10:42:42.648384Z",
     "iopub.status.busy": "2021-02-09T10:42:42.646604Z",
     "iopub.status.idle": "2021-02-09T10:42:42.650030Z",
     "shell.execute_reply": "2021-02-09T10:42:42.650684Z"
    }
   },
   "outputs": [],
   "source": [
    "import math\n",
    "\n",
    "class Run:\n",
    "    def __init__(self, data):\n",
    "        self.data = data\n",
    "                \n",
    "        self.condition = list(data[\"condition_id\"])[0]\n",
    "        \n",
    "        self.pid = list(data[\"pid\"])[-1]        \n",
    "        self.run_id = list(data[\"run_id\"])[-1]\n",
    "        self.run_starttime = list(data[\"timestampConditionStart\"])[-1]\n",
    "        \n",
    "        self.successful_click_time = list(data[\"timestampClick\"])[0]\n",
    "        \n",
    "        self.errors = -1\n",
    "    \n",
    "        for i in list(data[\"timestampClick\"]):\n",
    "            if self.successful_click_time != i:\n",
    "                self.errors += 1\n",
    "                self.successful_click_time = i\n",
    "                \n",
    "        self.run_duration = self.successful_click_time - self.run_starttime\n",
    "        \n",
    "        ###########################\n",
    "        self.collisions = 0\n",
    "        initial_collision_ts = list(data[\"timestampCollision\"])[0]\n",
    "\n",
    "        for i in list(data[\"timestampCollision\"]):\n",
    "            if initial_collision_ts != i:\n",
    "                self.collisions += 1\n",
    "                initial_collision_ts = i\n",
    "                \n",
    "        self.run_duration = self.successful_click_time - self.run_starttime\n",
    "        \n",
    "        \n",
    "        ##############################\n",
    "       \n",
    "        self.num_cursor_movements = 0\n",
    "        self.cursor_movement_length = 0\n",
    "        self.num_target_movements = 0\n",
    "        self.target_movement_length = 0\n",
    "        \n",
    "        initial_cursor_x = int(float(list(data[\"cursorX\"])[0]))\n",
    "        initial_cursor_y = int(float(list(data[\"cursorY\"])[0]))\n",
    "        initial_target_x = int(float(list(data[\"targetX\"])[0]))\n",
    "        initial_target_y = int(float(list(data[\"targetY\"])[0]))\n",
    "        \n",
    "        for i in range(0, len(list(data[\"cursorX\"]))):\n",
    "            x, y = int(float(list(data[\"cursorX\"])[i])), int(float(list(data[\"cursorY\"])[i]))\n",
    "            tx, ty = int(float(list(data[\"targetX\"])[i])), int(float(list(data[\"targetY\"])[i]))\n",
    "            \n",
    "            if x != initial_cursor_x or y != initial_cursor_y:\n",
    "                self.cursor_movement_length += self.vector_length(x - initial_cursor_x, y - initial_cursor_y)\n",
    "                self.num_cursor_movements += 1\n",
    "                initial_cursor_x = x\n",
    "                initial_cursor_y = y\n",
    "                \n",
    "            if tx != initial_target_x or ty != initial_target_y:\n",
    "                self.num_target_movements += 1\n",
    "                self.target_movement_length += self.vector_length(tx - initial_target_x, ty - initial_target_y)\n",
    "                initial_target_x = tx\n",
    "                initial_target_y = ty\n",
    "              \n",
    "    def __repr__(self):\n",
    "        return \"condition:{0}\\npid: {1}\\nrun_id: {2}\\ncollisions:{3}\\nerrors:{4}\\nduration:{5} ms\\ncursor movements:{6}\\ncursor movement length:{7}\\ntarget movements:{8}\\ntarget movement length:{9}\\n\\n\".format(\n",
    "            self.condition,\n",
    "            self.pid,\n",
    "            self.run_id,\n",
    "            self.collisions,\n",
    "            self.errors,\n",
    "            self.run_duration,\n",
    "            self.num_cursor_movements,\n",
    "            self.cursor_movement_length,\n",
    "            self.num_target_movements,\n",
    "            self.target_movement_length)\n",
    "    \n",
    "    def vector_length(self, u, v):\n",
    "        return math.sqrt(u * u + v * v)\n",
    "    "
   ]
  },
  {
   "cell_type": "code",
   "execution_count": null,
   "metadata": {
    "execution": {
     "iopub.execute_input": "2021-02-09T10:42:42.655627Z",
     "iopub.status.busy": "2021-02-09T10:42:42.655020Z",
     "iopub.status.idle": "2021-02-09T10:42:43.509444Z",
     "shell.execute_reply": "2021-02-09T10:42:43.509816Z"
    }
   },
   "outputs": [],
   "source": [
    "conditions = []\n",
    "\n",
    "for df in dff:\n",
    "    conditions.append([])\n",
    "    \n",
    "    for pid in pids:\n",
    "        dfp = df[df[\"pid\"] == pid]\n",
    "        \n",
    "        for rid in range(1, max(df[\"run_id\"])):\n",
    "            dfpr = dfp[dfp[\"run_id\"] == rid]\n",
    "            \n",
    "            conditions[-1].append(Run(dfpr))"
   ]
  },
  {
   "cell_type": "markdown",
   "metadata": {},
   "source": [
    "# Results"
   ]
  },
  {
   "cell_type": "markdown",
   "metadata": {},
   "source": [
    "## Duration"
   ]
  },
  {
   "cell_type": "code",
   "execution_count": null,
   "metadata": {
    "execution": {
     "iopub.execute_input": "2021-02-09T10:42:43.516932Z",
     "iopub.status.busy": "2021-02-09T10:42:43.516303Z",
     "iopub.status.idle": "2021-02-09T10:42:43.769164Z",
     "shell.execute_reply": "2021-02-09T10:42:43.769724Z"
    }
   },
   "outputs": [],
   "source": [
    "durations = {}\n",
    "\n",
    "for condition in conditions:\n",
    "    durations[condition[0].condition] = [run.run_duration for run in condition]\n",
    "        \n",
    "ticks = []\n",
    "data = []\n",
    "\n",
    "for condition, duration_measurements in durations.items(): \n",
    "    cond_name = \"Static UI\" if condition == 0 else \"Factor 0.5 MUI\" if condition == 1 else \"Factor 1 MUI\" if condition == 2 else \"Static UI with 1.5x CD Gain\"\n",
    "    \n",
    "    print(\"condition: {0} has mean duration of {1} ms\".format(cond_name, np.mean(duration_measurements)))\n",
    "    print(\"condition: {0} has median duration of {1} ms\".format(cond_name, np.median(duration_measurements)))\n",
    "    print()\n",
    "    \n",
    "    data.append(duration_measurements)\n",
    "    ticks.append(cond_name)\n",
    "\n",
    "fig = plt.figure()\n",
    "fig.suptitle('TCT Comparison between static UI and MUI variants', fontsize=14, fontweight='bold')\n",
    "\n",
    "ax = fig.add_subplot(111)\n",
    "ax.boxplot(data)\n",
    "ax.set_xlabel('UI variants')\n",
    "ax.set_ylabel('Task Completion Time in ms')\n",
    "ax.set_ylim(ymin=0)\n",
    "xticks([i + 1 for i in range(len(ticks))], ticks)\n"
   ]
  },
  {
   "cell_type": "code",
   "execution_count": null,
   "metadata": {
    "execution": {
     "iopub.execute_input": "2021-02-09T10:42:43.778200Z",
     "iopub.status.busy": "2021-02-09T10:42:43.777522Z",
     "iopub.status.idle": "2021-02-09T10:42:43.779773Z",
     "shell.execute_reply": "2021-02-09T10:42:43.780202Z"
    }
   },
   "outputs": [],
   "source": [
    "from scipy.stats import ttest_rel as ttest\n",
    "\n",
    "static_durations = durations[0]\n",
    "factor05_durations = durations[1]\n",
    "factor1_durations = durations[2]\n",
    "static15cdg_durations = durations[3]\n",
    "\n",
    "print(\"Static UI vs Static UI with 1.5x CD Gain -> p = {}\".format(ttest(static_durations, static15cdg_durations)[1]))\n",
    "print(\"Static UI with 1.5x CD Gain vs MUI with movement factor 0.5 -> p = {}\".format(ttest(factor05_durations, static15cdg_durations)[1]))\n",
    "print(\"Static UI with 1.5x CD Gain vs MUI with movement factor 1 -> p = {}\".format(ttest(factor1_durations, static15cdg_durations)[1]))\n",
    "print(\"Static UI vs MUI with movement factor 0.5 -> p = {}\".format(ttest(static_durations, factor05_durations)[1]))\n",
    "print(\"Static UI vs MUI with movement factor 1 -> p = {}\".format(ttest(static_durations, factor1_durations)[1]))\n",
    "print(\"MUI05 vs MUI1 -> p = {}\".format(ttest(factor05_durations, factor1_durations)[1]))"
   ]
  },
  {
   "cell_type": "markdown",
   "metadata": {},
   "source": [
    "## Errors"
   ]
  },
  {
   "cell_type": "code",
   "execution_count": null,
   "metadata": {
    "execution": {
     "iopub.execute_input": "2021-02-09T10:42:43.790898Z",
     "iopub.status.busy": "2021-02-09T10:42:43.790178Z",
     "iopub.status.idle": "2021-02-09T10:42:43.792493Z",
     "shell.execute_reply": "2021-02-09T10:42:43.793013Z"
    }
   },
   "outputs": [],
   "source": [
    "def increase_in_percent(counter, denominator):\n",
    "    return (counter / (denominator / 100)) - 100\n",
    "\n",
    "errors = {}\n",
    "\n",
    "for condition in conditions:\n",
    "    errors[condition[0].condition] = sum([run.errors for run in condition])\n",
    "    \n",
    "static_errors = errors[0]\n",
    "factor05_errors = errors[1]\n",
    "factor1_errors = errors[2]\n",
    "static15cdg_errors = errors[3]\n",
    "\n",
    "\n",
    "print(\"Errors for static UI: {}\".format(static_errors))\n",
    "print(\"Errors for MUI with movement factor 0.5: {}\".format(factor05_errors))\n",
    "print(\"Errors for MUI with movement factor 1: {}\".format(factor1_errors))\n",
    "print(\"Errors for static UI with 1.5x CD Gain: {}\".format(static15cdg_errors))\n",
    "print()\n",
    "print(\"Error rate are somewhat the same when ignoring static UI with 1.5 CD Gain.\")\n",
    "print(\"Including the static UI with 1.5 CD Gain the amount of errors increased porbably in a way which cannot be seen as insignificant.\")\n",
    "print()\n",
    "print(\"Error increase in percent for static UI vs static UI with 1.5x CD Gain: {}%\".format(increase_in_percent(static15cdg_errors, static_errors)))\n",
    "print(\"This means, that during the selection task with static UI with 1.5x CD Gain participants made {}% more mistakes compared to static UI with default CD Gain.\".format(increase_in_percent(static15cdg_errors, static_errors)))\n",
    "print()\n",
    "print(\"Error increase in percent for static UI vs MUI with factor 0.5: {}%\".format(increase_in_percent(factor05_errors, static_errors)))\n",
    "print(\"MUI with factor 0.5 had {}% less mistakes than static UI\".format(abs(increase_in_percent(factor05_errors, static_errors))))\n",
    "print()\n",
    "print(\"Error increase in percent for static UI vs MUI with factor 1: {}%\".format(increase_in_percent(factor1_errors, static_errors)))\n",
    "print(\"MUI with factor 1 had {}% more mistakes than static UI\".format(increase_in_percent(factor1_errors, static_errors)))\n",
    "print()\n",
    "print(\"Error increase in percent for static UI with 1.5x CD Gain vs MUI with factor 0.5: {}%\".format(increase_in_percent(factor05_errors, static15cdg_errors)))\n",
    "print(\"MUI with factor 0.5 had {}% less mistakes than static UI with 1.5x CD Gain\".format(abs(increase_in_percent(factor05_errors, static15cdg_errors))))\n",
    "print()\n",
    "print(\"Error increase in percent for static UI with 1.5x CD Gain vs MUI with factor 1: {}%\".format(increase_in_percent(factor1_errors, static15cdg_errors)))\n",
    "print(\"MUI with factor 1 had {}% less mistakes than static UI with 1.5x CD Gain\".format(abs(increase_in_percent(factor1_errors, static15cdg_errors))))\n",
    "print()\n",
    "print(\"Error increase in percent for MUI with factor 1 vs MUI with factor 0.5: {}%\".format(increase_in_percent(factor05_errors, factor1_errors)))\n",
    "print(\"MUI with factor 0.5 had {}% less mistakes than MUI with factor 1\".format(abs(increase_in_percent(factor05_errors, factor1_errors))))\n",
    "\n"
   ]
  },
  {
   "cell_type": "markdown",
   "metadata": {},
   "source": [
    "## Covered Distances"
   ]
  },
  {
   "cell_type": "code",
   "execution_count": null,
   "metadata": {
    "execution": {
     "iopub.execute_input": "2021-02-09T10:42:43.799108Z",
     "iopub.status.busy": "2021-02-09T10:42:43.798270Z",
     "iopub.status.idle": "2021-02-09T10:42:43.800895Z",
     "shell.execute_reply": "2021-02-09T10:42:43.800365Z"
    }
   },
   "outputs": [],
   "source": [
    "# covered_distance\n",
    "mean_covered_distances_cursor = {}\n",
    "\n",
    "for condition in conditions:\n",
    "    mean_covered_distances_cursor[condition[0].condition] = sum([run.cursor_movement_length for run in condition]) / len([run.cursor_movement_length for run in condition])"
   ]
  },
  {
   "cell_type": "code",
   "execution_count": null,
   "metadata": {
    "execution": {
     "iopub.execute_input": "2021-02-09T10:42:43.807592Z",
     "iopub.status.busy": "2021-02-09T10:42:43.805751Z",
     "iopub.status.idle": "2021-02-09T10:42:43.811124Z",
     "shell.execute_reply": "2021-02-09T10:42:43.811797Z"
    }
   },
   "outputs": [],
   "source": [
    "static_mean_covered_distance = mean_covered_distances_cursor[0]\n",
    "factor05_mean_covered_distance = mean_covered_distances_cursor[1]\n",
    "factor1_mean_covered_distance = mean_covered_distances_cursor[2]\n",
    "static15cdg_mean_covered_distance = mean_covered_distances_cursor[3]\n",
    "\n",
    "\n",
    "print(\"Mean covered distance of cursor for static UI: {}px\".format(static_mean_covered_distance))\n",
    "print(\"Mean covered distance of cursor for MUI with movement factor 0.5: {}px\".format(factor05_mean_covered_distance))\n",
    "print(\"Mean covered distance of cursor for MUI with movement factor 1: {}px\".format(factor1_mean_covered_distance))\n",
    "print(\"Mean covered distance of cursor for static UI with 1.5x CD Gain: {}px\".format(static15cdg_mean_covered_distance))"
   ]
  },
  {
   "cell_type": "markdown",
   "metadata": {},
   "source": [
    "## Most notable observation"
   ]
  },
  {
   "cell_type": "markdown",
   "metadata": {},
   "source": [
    "WIP"
   ]
  },
  {
   "cell_type": "code",
   "execution_count": null,
   "metadata": {},
   "outputs": [],
   "source": []
  },
  {
   "cell_type": "code",
   "execution_count": null,
   "metadata": {},
   "outputs": [],
   "source": []
  }
 ],
 "metadata": {
  "kernelspec": {
   "display_name": "Python 3",
   "language": "python",
   "name": "python3"
  },
  "language_info": {
   "codemirror_mode": {
    "name": "ipython",
    "version": 3
   },
   "file_extension": ".py",
   "mimetype": "text/x-python",
   "name": "python",
   "nbconvert_exporter": "python",
   "pygments_lexer": "ipython3",
   "version": "3.9.0"
  }
 },
 "nbformat": 4,
 "nbformat_minor": 4
}

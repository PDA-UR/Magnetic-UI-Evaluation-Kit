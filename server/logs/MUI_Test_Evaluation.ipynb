{
 "cells": [
  {
   "cell_type": "code",
   "execution_count": 1,
   "metadata": {
    "execution": {
     "iopub.execute_input": "2021-03-16T13:25:06.327853Z",
     "iopub.status.busy": "2021-03-16T13:25:06.318019Z",
     "iopub.status.idle": "2021-03-16T13:25:06.893228Z",
     "shell.execute_reply": "2021-03-16T13:25:06.892826Z"
    }
   },
   "outputs": [],
   "source": [
    "import csv\n",
    "%matplotlib inline\n",
    "from pylab import *\n",
    "rcParams['figure.figsize'] = (16,9)\n",
    "rcParams['font.size'] = 12\n",
    "import numpy as np\n",
    "import scipy as sp\n",
    "import os \n",
    "import glob\n",
    "import pandas as pd\n",
    "import seaborn as sns\n",
    "\n",
    "#pd.set_option(\"display.max_rows\", None, \"display.max_columns\", None)\n",
    "\n",
    "data_path = os.getcwd()\n",
    "data_extension = \"csv\"\n",
    "\n",
    "os.chdir(data_path)"
   ]
  },
  {
   "cell_type": "code",
   "execution_count": 2,
   "metadata": {
    "execution": {
     "iopub.execute_input": "2021-03-16T13:25:06.896256Z",
     "iopub.status.busy": "2021-03-16T13:25:06.895861Z",
     "iopub.status.idle": "2021-03-16T13:25:06.897850Z",
     "shell.execute_reply": "2021-03-16T13:25:06.898158Z"
    }
   },
   "outputs": [],
   "source": [
    "result = [file for file in glob.glob(\"/home/juergen/Desktop/logs_phase1/\" + '*.{}'.format(data_extension))]\n",
    "participants, hashes = result.pop(result.index('/home/juergen/Desktop/logs_phase1/pidList.csv')), result.pop(result.index('/home/juergen/Desktop/logs_phase1/finishedHashes.csv'))"
   ]
  },
  {
   "cell_type": "code",
   "execution_count": 3,
   "metadata": {
    "execution": {
     "iopub.execute_input": "2021-03-16T13:25:06.904768Z",
     "iopub.status.busy": "2021-03-16T13:25:06.903364Z",
     "iopub.status.idle": "2021-03-16T13:25:07.219729Z",
     "shell.execute_reply": "2021-03-16T13:25:07.219094Z"
    }
   },
   "outputs": [],
   "source": [
    "import csv\n",
    "\n",
    "# omit incomplete data sets\n",
    "\n",
    "result.sort()\n",
    "is_missing_header = False\n",
    "\n",
    "# omit due to missing runs\n",
    "to_omit = []\n",
    "to_omit_pids = []\n",
    "for f in result:\n",
    "    with open(f, \"r\") as file:\n",
    "        reader = csv.reader(file, delimiter=\",\")\n",
    "        rids = []\n",
    "\n",
    "        for i, row in enumerate(reader):\n",
    "            pid = -1\n",
    "            \n",
    "            if i == 0:\n",
    "                if row != ['timestampLog', 'pid', 'condition_id', 'run_id', 'timestampConditionStart', 'timestampCollision', 'timestampClick', 'mouseIsInsideElement', 'targetX', 'targetY', 'targetWidth', 'targetHeight', 'cursorX', 'cursorY']:\n",
    "                    is_missing_header = True\n",
    "            else:\n",
    "                rids.append(int(row[3]))\n",
    "                \n",
    "        rids = list(set(rids))\n",
    "                \n",
    "        target_sum = sum([i for i in range(1, 51)]) if 'cooldown' in f or 'warmup' in f else sum([i for i in range(1, 101)])\n",
    "                \n",
    "        if sum(rids) != target_sum:\n",
    "            to_omit.append(f)\n",
    "        elif is_missing_header:\n",
    "            pass\n",
    "            # reconstruct missing header\n",
    "    \n",
    "for f in to_omit:\n",
    "    root = f.split(\"-\")[0]\n",
    "    \n",
    "    to_omit_pids.append(root[-1])\n",
    "    pattern = root + \"-\"\n",
    "    \n",
    "    result = [elem for elem in result if pattern not in elem]    "
   ]
  },
  {
   "cell_type": "code",
   "execution_count": null,
   "metadata": {},
   "outputs": [],
   "source": []
  },
  {
   "cell_type": "code",
   "execution_count": 4,
   "metadata": {
    "execution": {
     "iopub.execute_input": "2021-03-16T13:25:07.223546Z",
     "iopub.status.busy": "2021-03-16T13:25:07.223125Z",
     "iopub.status.idle": "2021-03-16T13:25:07.589595Z",
     "shell.execute_reply": "2021-03-16T13:25:07.589906Z"
    }
   },
   "outputs": [],
   "source": [
    "dff = [(pd.read_csv(f, delimiter = ','), f) for f in result]\n",
    "\n",
    "concats = {}\n",
    "\n",
    "for df in dff:\n",
    "    condition_id = list(df[0][\"condition_id\"])[0]\n",
    "\n",
    "    if not condition_id in concats:\n",
    "        concats[condition_id] = df[0]\n",
    "    else:\n",
    "        concats[condition_id] = pd.concat([concats[condition_id], df[0]])\n",
    "    \n",
    "        \n",
    "dff = concats.values()\n",
    "\n",
    "pids = list(concats[0].pid.unique())"
   ]
  },
  {
   "cell_type": "code",
   "execution_count": 5,
   "metadata": {
    "execution": {
     "iopub.execute_input": "2021-03-16T13:25:07.598045Z",
     "iopub.status.busy": "2021-03-16T13:25:07.597651Z",
     "iopub.status.idle": "2021-03-16T13:25:07.599552Z",
     "shell.execute_reply": "2021-03-16T13:25:07.599171Z"
    }
   },
   "outputs": [],
   "source": [
    "import math\n",
    "\n",
    "class Run:\n",
    "    def __init__(self, data):\n",
    "        self.data = data\n",
    "                        \n",
    "        self.condition = list(data[\"condition_id\"])[0]\n",
    "        \n",
    "        self.pid = list(data[\"pid\"])[-1]        \n",
    "        self.run_id = list(data[\"run_id\"])[-1]\n",
    "        self.run_starttime = list(data[\"timestampConditionStart\"])[0]\n",
    "        self.successful_click_time = list(data[\"timestampClick\"])[-1]\n",
    "        \n",
    "        self.run_duration = float(self.successful_click_time) - float(self.run_starttime)\n",
    "        self.errors = len(list(data[\"timestampClick\"])) - list(data[\"timestampClick\"]).count(\"oldval\") - 1\n",
    "              \n",
    "        ###########################\n",
    "        self.collisions = 0\n",
    "        initial_collision_ts = list(data[\"timestampCollision\"])[0]\n",
    "\n",
    "        for i in list(data[\"timestampCollision\"]):\n",
    "            if initial_collision_ts != i:\n",
    "                self.collisions += 1\n",
    "                initial_collision_ts = i        \n",
    "        \n",
    "        ##############################\n",
    "       \n",
    "        self.num_cursor_movements = 0\n",
    "        self.cursor_movement_length = 0\n",
    "        self.num_target_movements = 0\n",
    "        self.target_movement_length = 0\n",
    "        \n",
    "        initial_cursor_x = int(float(list(data[\"cursorX\"])[0]))\n",
    "        initial_cursor_y = int(float(list(data[\"cursorY\"])[0]))\n",
    "        initial_target_x = int(float(list(data[\"targetX\"])[0]))\n",
    "        initial_target_y = int(float(list(data[\"targetY\"])[0]))\n",
    "        \n",
    "        for i in range(0, len(list(data[\"cursorX\"]))):\n",
    "            x, y = int(float(list(data[\"cursorX\"])[i])), int(float(list(data[\"cursorY\"])[i]))\n",
    "            tx, ty = int(float(list(data[\"targetX\"])[i])), int(float(list(data[\"targetY\"])[i]))\n",
    "            \n",
    "            if x != initial_cursor_x or y != initial_cursor_y:\n",
    "                self.cursor_movement_length += self.vector_length(x - initial_cursor_x, y - initial_cursor_y)\n",
    "                self.num_cursor_movements += 1\n",
    "                initial_cursor_x = x\n",
    "                initial_cursor_y = y\n",
    "                \n",
    "            if tx != initial_target_x or ty != initial_target_y:\n",
    "                self.num_target_movements += 1\n",
    "                self.target_movement_length += self.vector_length(tx - initial_target_x, ty - initial_target_y)\n",
    "                initial_target_x = tx\n",
    "                initial_target_y = ty\n",
    "              \n",
    "    def __repr__(self):\n",
    "        return \"condition:{0}\\npid: {1}\\nrun_id: {2}\\ncollisions:{3}\\nerrors:{4}\\nduration:{5} ms\\ncursor movements:{6}\\ncursor movement length:{7}\\ntarget movements:{8}\\ntarget movement length:{9}\\n\\n\".format(\n",
    "            self.condition,\n",
    "            self.pid,\n",
    "            self.run_id,\n",
    "            self.collisions,\n",
    "            self.errors,\n",
    "            self.run_duration,\n",
    "            self.num_cursor_movements,\n",
    "            self.cursor_movement_length,\n",
    "            self.num_target_movements,\n",
    "            self.target_movement_length)\n",
    "    \n",
    "    def vector_length(self, u, v):\n",
    "        return math.sqrt(u * u + v * v)\n",
    "    "
   ]
  },
  {
   "cell_type": "code",
   "execution_count": 6,
   "metadata": {
    "execution": {
     "iopub.execute_input": "2021-03-16T13:25:07.603969Z",
     "iopub.status.busy": "2021-03-16T13:25:07.603376Z",
     "iopub.status.idle": "2021-03-16T13:25:15.106368Z",
     "shell.execute_reply": "2021-03-16T13:25:15.105973Z"
    }
   },
   "outputs": [],
   "source": [
    "conditions = []\n",
    "\n",
    "for df in dff:\n",
    "    conditions.append([])\n",
    "    \n",
    "    for pid in pids:\n",
    "        dfp = df[df[\"pid\"] == pid]\n",
    "        \n",
    "        for rid in range(1, max(df[\"run_id\"])):\n",
    "            dfpr = dfp[dfp[\"run_id\"] == rid]\n",
    "            conditions[-1].append(Run(dfpr))"
   ]
  },
  {
   "cell_type": "markdown",
   "metadata": {},
   "source": [
    "# Results"
   ]
  },
  {
   "cell_type": "markdown",
   "metadata": {},
   "source": [
    "## Demographics"
   ]
  },
  {
   "cell_type": "code",
   "execution_count": 7,
   "metadata": {
    "execution": {
     "iopub.execute_input": "2021-03-16T13:25:15.113888Z",
     "iopub.status.busy": "2021-03-16T13:25:15.113426Z",
     "iopub.status.idle": "2021-03-16T13:25:15.115484Z",
     "shell.execute_reply": "2021-03-16T13:25:15.115021Z"
    }
   },
   "outputs": [],
   "source": [
    "def range_mean_median_sd(label, data):\n",
    "    data = [i if i == i and i != '-' else 0 for i in data]\n",
    "    \n",
    "    min_data = min(data)\n",
    "    max_data = max(data)\n",
    "    mean_data = np.mean(data)\n",
    "    median_data = np.median(data)\n",
    "    sd_data = sp.stats.tstd(data)\n",
    "\n",
    "    print(\"{0} ranges from {1:.2f} to {2:.2f} with a mean of {3:.2f} (sd. {4:.2f}) and median of {5:.2f}\".format(label, min_data, max_data, mean_data, sd_data, median_data))\n",
    "\n",
    "def occurence_dictionary(data):    \n",
    "    ret = {}\n",
    "    \n",
    "    for i in list(data):    \n",
    "        if i != i or i == '-':\n",
    "            i = 'unpspecified'\n",
    "            \n",
    "        ret[i.lower().rstrip()] = ret.get(i.lower().rstrip(), 0) + 1\n",
    "        \n",
    "    return ret\n",
    "\n",
    "pdf = pd.read_csv(participants, delimiter = ',')\n",
    "pdf = pdf[pdf.hasFinished != 0]\n",
    "\n",
    "for pid in to_omit_pids:\n",
    "    pdf = pdf[pdf.ID != int(pid)]"
   ]
  },
  {
   "cell_type": "markdown",
   "metadata": {},
   "source": [
    "### Gender"
   ]
  },
  {
   "cell_type": "code",
   "execution_count": 8,
   "metadata": {
    "execution": {
     "iopub.execute_input": "2021-03-16T13:25:15.119321Z",
     "iopub.status.busy": "2021-03-16T13:25:15.118862Z",
     "iopub.status.idle": "2021-03-16T13:25:15.121052Z",
     "shell.execute_reply": "2021-03-16T13:25:15.121362Z"
    }
   },
   "outputs": [
    {
     "name": "stdout",
     "output_type": "stream",
     "text": [
      "n = 5\n",
      "5 male, 0 female, 0 diverse, 0 other\n"
     ]
    }
   ],
   "source": [
    "gender = list(pdf[\"Geschlecht\"])\n",
    "m, w, d = gender.count(\"Männlich\"), gender.count(\"Weiblich\"), gender.count(\"Divers\")\n",
    "o = len(gender) - (m + w + d)\n",
    "\n",
    "print(\"n = {0}\".format(len(gender)))\n",
    "print(\"{0} male, {1} female, {2} diverse, {3} other\".format(m, w, d, o))"
   ]
  },
  {
   "cell_type": "markdown",
   "metadata": {},
   "source": [
    "### Age"
   ]
  },
  {
   "cell_type": "code",
   "execution_count": 9,
   "metadata": {
    "execution": {
     "iopub.execute_input": "2021-03-16T13:25:15.124483Z",
     "iopub.status.busy": "2021-03-16T13:25:15.124052Z",
     "iopub.status.idle": "2021-03-16T13:25:15.126137Z",
     "shell.execute_reply": "2021-03-16T13:25:15.125756Z"
    }
   },
   "outputs": [
    {
     "name": "stdout",
     "output_type": "stream",
     "text": [
      "Age ranges from 20.00 to 26.00 with a mean of 21.80 (sd. 2.49) and median of 21.00\n"
     ]
    }
   ],
   "source": [
    "ages = list(pdf[\"Alter\"])\n",
    "range_mean_median_sd(\"Age\", ages)"
   ]
  },
  {
   "cell_type": "markdown",
   "metadata": {},
   "source": [
    "### Occupation"
   ]
  },
  {
   "cell_type": "code",
   "execution_count": 10,
   "metadata": {
    "execution": {
     "iopub.execute_input": "2021-03-16T13:25:15.129191Z",
     "iopub.status.busy": "2021-03-16T13:25:15.128786Z",
     "iopub.status.idle": "2021-03-16T13:25:15.130610Z",
     "shell.execute_reply": "2021-03-16T13:25:15.130907Z"
    }
   },
   "outputs": [
    {
     "name": "stdout",
     "output_type": "stream",
     "text": [
      "{'student': 4, 'wiss. mitarbeiter': 1}\n"
     ]
    }
   ],
   "source": [
    "occupations = occurence_dictionary(pdf[\"Beruf\"])\n",
    "print(occupations)"
   ]
  },
  {
   "cell_type": "markdown",
   "metadata": {},
   "source": [
    "## Duration"
   ]
  },
  {
   "cell_type": "code",
   "execution_count": 11,
   "metadata": {
    "execution": {
     "iopub.execute_input": "2021-03-16T13:25:15.137776Z",
     "iopub.status.busy": "2021-03-16T13:25:15.137201Z",
     "iopub.status.idle": "2021-03-16T13:25:15.332985Z",
     "shell.execute_reply": "2021-03-16T13:25:15.332655Z"
    }
   },
   "outputs": [
    {
     "name": "stdout",
     "output_type": "stream",
     "text": [
      "Static UI ranges from 544.00 to 3181.49 with a mean of 989.41 (sd. 271.00) and median of 960.69\n",
      "\n",
      "Factor 0.25 MUI ranges from 483.02 to 2239.71 with a mean of 981.28 (sd. 272.14) and median of 951.00\n",
      "\n",
      "Factor 0.5 MUI ranges from 481.01 to 8777.31 with a mean of 1020.97 (sd. 488.32) and median of 947.23\n",
      "\n",
      "Factor 0.75 MUI ranges from 497.44 to 2411.00 with a mean of 985.63 (sd. 269.98) and median of 972.03\n",
      "\n",
      "Factor 1.0 MUI ranges from 453.58 to 10119.74 with a mean of 1055.47 (sd. 528.69) and median of 995.34\n",
      "\n",
      "Static UI with 1.5x CD Gain ranges from 535.94 to 7820.07 with a mean of 1043.15 (sd. 463.58) and median of 984.66\n",
      "\n",
      "Cooldown ranges from 535.69 to 3091.60 with a mean of 988.63 (sd. 310.29) and median of 932.20\n",
      "\n",
      "Warmup ranges from 539.74 to 2238.52 with a mean of 1015.44 (sd. 268.93) and median of 985.65\n",
      "\n"
     ]
    },
    {
     "data": {
      "text/plain": [
       "([<matplotlib.axis.XTick at 0x7fb1d84c4ac0>,\n",
       "  <matplotlib.axis.XTick at 0x7fb1d84c4a90>,\n",
       "  <matplotlib.axis.XTick at 0x7fb1d8472e20>,\n",
       "  <matplotlib.axis.XTick at 0x7fb1d83f53d0>,\n",
       "  <matplotlib.axis.XTick at 0x7fb1d83f58e0>,\n",
       "  <matplotlib.axis.XTick at 0x7fb1d83f5df0>],\n",
       " [Text(1, 0, 'Static UI'),\n",
       "  Text(2, 0, 'Factor 0.25 MUI'),\n",
       "  Text(3, 0, 'Factor 0.5 MUI'),\n",
       "  Text(4, 0, 'Factor 0.75 MUI'),\n",
       "  Text(5, 0, 'Factor 1.0 MUI'),\n",
       "  Text(6, 0, 'Static UI with 1.5x CD Gain')])"
      ]
     },
     "execution_count": 1,
     "metadata": {},
     "output_type": "execute_result"
    },
    {
     "data": {
      "image/png": "[encoded data removed]",
      "text/plain": [
       "<Figure size 1152x648 with 1 Axes>"
      ]
     },
     "metadata": {
      "needs_background": "light"
     },
     "output_type": "display_data"
    }
   ],
   "source": [
    "durations = {}\n",
    "\n",
    "for condition in conditions:\n",
    "    durations[condition[0].condition] = [run.run_duration for run in condition]\n",
    "        \n",
    "ticks = []\n",
    "data = []\n",
    "\n",
    "for condition, duration_measurements in durations.items(): \n",
    "    cond_name = \"Warmup\" if condition == -1 else \"Static UI\" if condition == 0 else \"Factor 0.25 MUI\" if condition == 1 else \"Factor 0.5 MUI\" if condition == 2 else \"Factor 0.75 MUI\" if condition == 3 else \"Factor 1.0 MUI\" if condition == 4  else \"Static UI with 1.5x CD Gain\" if condition == 5 else \"Cooldown\"\n",
    "    \n",
    "    range_mean_median_sd (cond_name, duration_measurements)\n",
    "    print()\n",
    "    \n",
    "    if cond_name != \"Warmup\" and cond_name != \"Cooldown\":\n",
    "        data.append(duration_measurements)\n",
    "        ticks.append(cond_name)\n",
    "\n",
    "fig = plt.figure()\n",
    "fig.suptitle('TCT Comparison between static UI and MUI variants', fontsize=14, fontweight='bold')\n",
    "\n",
    "ax = fig.add_subplot(111)\n",
    "ax.boxplot(data)\n",
    "ax.set_xlabel('UI variants')\n",
    "ax.set_ylabel('Task Completion Time in ms')\n",
    "ax.set_ylim(bottom=0)\n",
    "xticks([i + 1 for i in range(len(ticks))], ticks)\n"
   ]
  },
  {
   "cell_type": "code",
   "execution_count": 12,
   "metadata": {
    "execution": {
     "iopub.execute_input": "2021-03-16T13:25:15.337842Z",
     "iopub.status.busy": "2021-03-16T13:25:15.337448Z",
     "iopub.status.idle": "2021-03-16T13:25:15.351270Z",
     "shell.execute_reply": "2021-03-16T13:25:15.350940Z"
    },
    "scrolled": true
   },
   "outputs": [
    {
     "name": "stdout",
     "output_type": "stream",
     "text": [
      "Static UI vs Factor 0.25 MUI -> p = 0.5761763393692573\n",
      "Static UI vs Factor 0.5 MUI -> p = 0.1780492500937862\n",
      "Static UI vs Factor 0.75 MUI -> p = 0.7956346283361224"
     ]
    },
    {
     "name": "stdout",
     "output_type": "stream",
     "text": [
      "\n",
      "Static UI vs Factor 1.0 MUI -> p = 0.008203018093261594\n",
      "Static UI vs Static UI with 1.5x CD Gain -> p = 0.012171035059329822\n",
      "\n",
      "Factor 0.25 MUI vs Static UI -> p = 0.5761763393692573\n",
      "Factor 0.25 MUI vs Factor 0.5 MUI -> p = 0.07549881802194545\n",
      "Factor 0.25 MUI vs Factor 0.75 MUI -> p = 0.7603166708100109\n",
      "Factor 0.25 MUI vs Factor 1.0 MUI -> p = 0.00232549307678944\n",
      "Factor 0.25 MUI vs Static UI with 1.5x CD Gain -> p = 0.006308055958642368\n",
      "\n",
      "Factor 0.5 MUI vs Static UI -> p = 0.1780492500937862\n",
      "Factor 0.5 MUI vs Factor 0.25 MUI -> p = 0.07549881802194545\n",
      "Factor 0.5 MUI vs Factor 0.75 MUI -> p = 0.12726958944255898\n",
      "Factor 0.5 MUI vs Factor 1.0 MUI -> p = 0.25814201437959344\n",
      "Factor 0.5 MUI vs Static UI with 1.5x CD Gain -> p = 0.44214171199037144\n",
      "\n",
      "Factor 0.75 MUI vs Static UI -> p = 0.7956346283361224\n",
      "Factor 0.75 MUI vs Factor 0.25 MUI -> p = 0.7603166708100109\n",
      "Factor 0.75 MUI vs Factor 0.5 MUI -> p = 0.12726958944255898\n",
      "Factor 0.75 MUI vs Factor 1.0 MUI -> p = 0.002618454224272984\n",
      "Factor 0.75 MUI vs Static UI with 1.5x CD Gain -> p = 0.011774545339484691\n",
      "\n",
      "Factor 1.0 MUI vs Static UI -> p = 0.008203018093261594\n",
      "Factor 1.0 MUI vs Factor 0.25 MUI -> p = 0.00232549307678944\n",
      "Factor 1.0 MUI vs Factor 0.5 MUI -> p = 0.25814201437959344\n",
      "Factor 1.0 MUI vs Factor 0.75 MUI -> p = 0.002618454224272984\n",
      "Factor 1.0 MUI vs Static UI with 1.5x CD Gain -> p = 0.6804025348486875\n",
      "\n",
      "Static UI with 1.5x CD Gain vs Static UI -> p = 0.012171035059329822\n",
      "Static UI with 1.5x CD Gain vs Factor 0.25 MUI -> p = 0.006308055958642368\n",
      "Static UI with 1.5x CD Gain vs Factor 0.5 MUI -> p = 0.44214171199037144\n",
      "Static UI with 1.5x CD Gain vs Factor 0.75 MUI -> p = 0.011774545339484691\n",
      "Static UI with 1.5x CD Gain vs Factor 1.0 MUI -> p = 0.6804025348486875\n",
      "\n"
     ]
    }
   ],
   "source": [
    "from scipy.stats import ttest_rel as ttest\n",
    "\n",
    "static_durations = durations[0]\n",
    "factor025_durations = durations[1]\n",
    "factor05_durations = durations[2]\n",
    "factor075_durations = durations[3]\n",
    "factor1_durations = durations[4]\n",
    "static15cdg_durations = durations[5]\n",
    "\n",
    "def getConditionName(cond):\n",
    "    cond_name = \"Static UI\" if cond == 0 else \"Factor 0.25 MUI\" if cond == 1 else \"Factor 0.5 MUI\" if cond == 2 else \"Factor 0.75 MUI\" if cond == 3 else \"Factor 1.0 MUI\" if cond == 4  else \"Static UI with 1.5x CD Gain\"\n",
    "    return cond_name\n",
    "    \n",
    "for cond in range(6):\n",
    "    cond_name = getConditionName(cond)\n",
    "    for condToCompare in range(6):\n",
    "        if cond != condToCompare:\n",
    "            condToCompare_name = getConditionName(condToCompare)\n",
    "            print(cond_name + \" vs \" + condToCompare_name + \" -> p = {}\".format(ttest(durations[cond], durations[condToCompare])[1]))\n",
    "    print()"
   ]
  },
  {
   "cell_type": "markdown",
   "metadata": {},
   "source": [
    "## Errors"
   ]
  },
  {
   "cell_type": "code",
   "execution_count": 13,
   "metadata": {
    "execution": {
     "iopub.execute_input": "2021-03-16T13:25:15.357396Z",
     "iopub.status.busy": "2021-03-16T13:25:15.356782Z",
     "iopub.status.idle": "2021-03-16T13:25:15.360135Z",
     "shell.execute_reply": "2021-03-16T13:25:15.360453Z"
    }
   },
   "outputs": [
    {
     "name": "stdout",
     "output_type": "stream",
     "text": [
      "Errors for Static UI: 50\n",
      "Static UI vs Factor 0.25 MUI -> -1.9607843137254974%\n",
      "Static UI vs Factor 0.5 MUI -> -19.354838709677423%\n",
      "Static UI vs Factor 0.75 MUI -> 4.166666666666671%\n",
      "Static UI vs Factor 1.0 MUI -> -24.24242424242425%\n",
      "Static UI vs Static UI with 1.5x CD Gain -> -47.916666666666664%\n",
      "\n",
      "Errors for Factor 0.25 MUI: 51\n",
      "Factor 0.25 MUI vs Static UI -> 2.0%\n",
      "Factor 0.25 MUI vs Factor 0.5 MUI -> -17.74193548387096%\n",
      "Factor 0.25 MUI vs Factor 0.75 MUI -> 6.25%\n",
      "Factor 0.25 MUI vs Factor 1.0 MUI -> -22.727272727272734%\n",
      "Factor 0.25 MUI vs Static UI with 1.5x CD Gain -> -46.875%\n",
      "\n",
      "Errors for Factor 0.5 MUI: 62\n",
      "Factor 0.5 MUI vs Static UI -> 24.0%\n",
      "Factor 0.5 MUI vs Factor 0.25 MUI -> 21.568627450980387%\n",
      "Factor 0.5 MUI vs Factor 0.75 MUI -> 29.166666666666686%\n",
      "Factor 0.5 MUI vs Factor 1.0 MUI -> -6.060606060606062%\n",
      "Factor 0.5 MUI vs Static UI with 1.5x CD Gain -> -35.41666666666666%\n",
      "\n",
      "Errors for Factor 0.75 MUI: 48\n",
      "Factor 0.75 MUI vs Static UI -> -4.0%\n",
      "Factor 0.75 MUI vs Factor 0.25 MUI -> -5.882352941176478%\n",
      "Factor 0.75 MUI vs Factor 0.5 MUI -> -22.58064516129032%\n",
      "Factor 0.75 MUI vs Factor 1.0 MUI -> -27.27272727272728%\n",
      "Factor 0.75 MUI vs Static UI with 1.5x CD Gain -> -50.0%\n",
      "\n",
      "Errors for Factor 1.0 MUI: 66\n",
      "Factor 1.0 MUI vs Static UI -> 32.0%\n",
      "Factor 1.0 MUI vs Factor 0.25 MUI -> 29.411764705882348%\n",
      "Factor 1.0 MUI vs Factor 0.5 MUI -> 6.451612903225808%\n",
      "Factor 1.0 MUI vs Factor 0.75 MUI -> 37.5%\n",
      "Factor 1.0 MUI vs Static UI with 1.5x CD Gain -> -31.25%\n",
      "\n",
      "Errors for Static UI with 1.5x CD Gain: 96\n",
      "Static UI with 1.5x CD Gain vs Static UI -> 92.0%\n",
      "Static UI with 1.5x CD Gain vs Factor 0.25 MUI -> 88.23529411764704%\n",
      "Static UI with 1.5x CD Gain vs Factor 0.5 MUI -> 54.83870967741936%\n",
      "Static UI with 1.5x CD Gain vs Factor 0.75 MUI -> 100.0%\n",
      "Static UI with 1.5x CD Gain vs Factor 1.0 MUI -> 45.45454545454544%\n",
      "\n"
     ]
    }
   ],
   "source": [
    "def increase_in_percent(counter, denominator):\n",
    "    return (counter / (denominator / 100)) - 100\n",
    "\n",
    "errors = {}\n",
    "\n",
    "for condition in conditions:\n",
    "    errors[condition[0].condition] = sum([run.errors for run in condition])\n",
    "\n",
    "for cond in range(6):\n",
    "    cond_name = getConditionName(cond)\n",
    "    print(\"Errors for \" + cond_name + \": {}\".format(errors[cond]))\n",
    "    for condToCompare in range(6):\n",
    "        if cond != condToCompare:\n",
    "            condToCompare_name = getConditionName(condToCompare)\n",
    "            print(cond_name + \" vs \" + condToCompare_name + \" -> {}%\".format(increase_in_percent(errors[cond], errors[condToCompare])))\n",
    "    print(\"\")"
   ]
  },
  {
   "cell_type": "markdown",
   "metadata": {},
   "source": [
    "## Covered Distances"
   ]
  },
  {
   "cell_type": "code",
   "execution_count": 14,
   "metadata": {
    "execution": {
     "iopub.execute_input": "2021-03-16T13:25:15.365112Z",
     "iopub.status.busy": "2021-03-16T13:25:15.364704Z",
     "iopub.status.idle": "2021-03-16T13:25:15.366417Z",
     "shell.execute_reply": "2021-03-16T13:25:15.366725Z"
    }
   },
   "outputs": [],
   "source": [
    "# covered_distance\n",
    "mean_covered_distances_cursor = {}\n",
    "\n",
    "for condition in conditions:\n",
    "    mean_covered_distances_cursor[condition[0].condition] = sum([run.cursor_movement_length for run in condition]) / len([run.cursor_movement_length for run in condition])"
   ]
  },
  {
   "cell_type": "code",
   "execution_count": 15,
   "metadata": {
    "execution": {
     "iopub.execute_input": "2021-03-16T13:25:15.370353Z",
     "iopub.status.busy": "2021-03-16T13:25:15.369852Z",
     "iopub.status.idle": "2021-03-16T13:25:15.371743Z",
     "shell.execute_reply": "2021-03-16T13:25:15.372072Z"
    }
   },
   "outputs": [
    {
     "name": "stdout",
     "output_type": "stream",
     "text": [
      "Mean covered distance of cursor for Static UI: 449.0312860908977px\n",
      "Mean covered distance of cursor for Factor 0.25 MUI: 372.9727933145386px\n",
      "Mean covered distance of cursor for Factor 0.5 MUI: 288.48849504348516px\n",
      "Mean covered distance of cursor for Factor 0.75 MUI: 262.6241871962777px\n",
      "Mean covered distance of cursor for Factor 1.0 MUI: 260.0223852672823px\n",
      "Mean covered distance of cursor for Static UI with 1.5x CD Gain: 513.0561135068325px\n"
     ]
    }
   ],
   "source": [
    "static_mean_covered_distance = mean_covered_distances_cursor[0]\n",
    "factor05_mean_covered_distance = mean_covered_distances_cursor[1]\n",
    "factor1_mean_covered_distance = mean_covered_distances_cursor[2]\n",
    "static15cdg_mean_covered_distance = mean_covered_distances_cursor[3]\n",
    "\n",
    "\n",
    "for cond in range(6):\n",
    "    cond_name = getConditionName(cond)\n",
    "    print(\"Mean covered distance of cursor for \" + cond_name + \": {}px\".format(mean_covered_distances_cursor[cond]))"
   ]
  },
  {
   "cell_type": "markdown",
   "metadata": {},
   "source": [
    "## Most notable observation"
   ]
  },
  {
   "cell_type": "markdown",
   "metadata": {},
   "source": [
    "WIP"
   ]
  },
  {
   "cell_type": "code",
   "execution_count": null,
   "metadata": {},
   "outputs": [],
   "source": []
  }
 ],
 "metadata": {
  "kernelspec": {
   "display_name": "Python 3",
   "language": "python",
   "name": "python3"
  },
  "language_info": {
   "codemirror_mode": {
    "name": "ipython",
    "version": 3
   },
   "file_extension": ".py",
   "mimetype": "text/x-python",
   "name": "python",
   "nbconvert_exporter": "python",
   "pygments_lexer": "ipython3",
   "version": "3.9.1+"
  }
 },
 "nbformat": 4,
 "nbformat_minor": 4
}

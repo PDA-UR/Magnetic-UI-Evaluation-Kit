{
 "cells": [
  {
   "cell_type": "code",
   "execution_count": 1,
   "metadata": {
    "execution": {
     "iopub.execute_input": "2021-03-12T11:07:49.385612Z",
     "iopub.status.busy": "2021-03-12T11:07:49.384756Z",
     "iopub.status.idle": "2021-03-12T11:07:50.499921Z",
     "shell.execute_reply": "2021-03-12T11:07:50.500433Z"
    }
   },
   "outputs": [],
   "source": [
    "import csv\n",
    "%matplotlib inline\n",
    "from pylab import *\n",
    "rcParams['figure.figsize'] = (16,9)\n",
    "rcParams['font.size'] = 12\n",
    "import numpy as np\n",
    "import scipy as sp\n",
    "import os \n",
    "import glob\n",
    "import pandas as pd\n",
    "import seaborn as sns\n",
    "\n",
    "#pd.set_option(\"display.max_rows\", None, \"display.max_columns\", None)\n",
    "\n",
    "data_path = os.getcwd()\n",
    "data_extension = \"csv\"\n",
    "\n",
    "os.chdir(data_path)"
   ]
  },
  {
   "cell_type": "code",
   "execution_count": 2,
   "metadata": {
    "execution": {
     "iopub.execute_input": "2021-03-12T11:07:50.504918Z",
     "iopub.status.busy": "2021-03-12T11:07:50.504256Z",
     "iopub.status.idle": "2021-03-12T11:07:50.507874Z",
     "shell.execute_reply": "2021-03-12T11:07:50.508317Z"
    }
   },
   "outputs": [
    {
     "name": "stdout",
     "output_type": "stream",
     "text": [
      "['./finishedLogs/8-4-f.csv', './finishedLogs/8-2-f.csv', './finishedLogs/8-0-f.csv', './finishedLogs/8-5-f.csv', './finishedLogs/8-1-f.csv', './finishedLogs/8-3-f.csv']\n"
     ]
    }
   ],
   "source": [
    "resultsOld = glob.glob(\"./finishedLogs/\" + '*.{}'.format(data_extension))\n",
    "result = []\n",
    "for filename in filter(re.compile(r'\\d+-[0-6]-f\\.csv').match, os.listdir('./finishedLogs/')):\n",
    "    result.append('./finishedLogs/' + filename)\n",
    "print(result)"
   ]
  },
  {
   "cell_type": "code",
   "execution_count": 3,
   "metadata": {
    "execution": {
     "iopub.execute_input": "2021-03-12T11:07:50.513466Z",
     "iopub.status.busy": "2021-03-12T11:07:50.512828Z",
     "iopub.status.idle": "2021-03-12T11:07:50.536754Z",
     "shell.execute_reply": "2021-03-12T11:07:50.537381Z"
    }
   },
   "outputs": [],
   "source": [
    "dff = [pd.read_csv(f, delimiter = ',') for f in result]\n",
    "\n",
    "concats = {}\n",
    "\n",
    "for df in dff:\n",
    "    condition_id = list(df[\"condition_id\"])[0]\n",
    "    \n",
    "    if not condition_id in concats:\n",
    "        concats[condition_id] = df\n",
    "    else:\n",
    "        concats[condition_id] = pd.concat([concats[condition_id], df])\n",
    "        \n",
    "dff = concats.values()\n",
    "\n",
    "pids = list(concats[0].pid.unique())"
   ]
  },
  {
   "cell_type": "code",
   "execution_count": 4,
   "metadata": {
    "execution": {
     "iopub.execute_input": "2021-03-12T11:07:50.550470Z",
     "iopub.status.busy": "2021-03-12T11:07:50.549650Z",
     "iopub.status.idle": "2021-03-12T11:07:50.551695Z",
     "shell.execute_reply": "2021-03-12T11:07:50.552204Z"
    }
   },
   "outputs": [],
   "source": [
    "import math\n",
    "\n",
    "class Run:\n",
    "    def __init__(self, data):\n",
    "        self.data = data\n",
    "                \n",
    "        self.condition = list(data[\"condition_id\"])[0]\n",
    "        \n",
    "        self.pid = list(data[\"pid\"])[-1]        \n",
    "        self.run_id = list(data[\"run_id\"])[-1]\n",
    "        self.run_starttime = list(data[\"timestampConditionStart\"])[-1]\n",
    "        \n",
    "        self.successful_click_time = list(data[\"timestampClick\"])[0]\n",
    "        \n",
    "        self.errors = -1\n",
    "    \n",
    "        for i in list(data[\"timestampClick\"]):\n",
    "            if self.successful_click_time != i:\n",
    "                self.errors += 1\n",
    "                self.successful_click_time = i\n",
    "                \n",
    "        self.run_duration = self.successful_click_time - self.run_starttime\n",
    "        \n",
    "        ###########################\n",
    "        self.collisions = 0\n",
    "        initial_collision_ts = list(data[\"timestampCollision\"])[0]\n",
    "\n",
    "        for i in list(data[\"timestampCollision\"]):\n",
    "            if initial_collision_ts != i:\n",
    "                self.collisions += 1\n",
    "                initial_collision_ts = i\n",
    "                \n",
    "        self.run_duration = self.successful_click_time - self.run_starttime\n",
    "        \n",
    "        \n",
    "        ##############################\n",
    "       \n",
    "        self.num_cursor_movements = 0\n",
    "        self.cursor_movement_length = 0\n",
    "        self.num_target_movements = 0\n",
    "        self.target_movement_length = 0\n",
    "        \n",
    "        initial_cursor_x = int(float(list(data[\"cursorX\"])[0]))\n",
    "        initial_cursor_y = int(float(list(data[\"cursorY\"])[0]))\n",
    "        initial_target_x = int(float(list(data[\"targetX\"])[0]))\n",
    "        initial_target_y = int(float(list(data[\"targetY\"])[0]))\n",
    "        \n",
    "        for i in range(0, len(list(data[\"cursorX\"]))):\n",
    "            x, y = int(float(list(data[\"cursorX\"])[i])), int(float(list(data[\"cursorY\"])[i]))\n",
    "            tx, ty = int(float(list(data[\"targetX\"])[i])), int(float(list(data[\"targetY\"])[i]))\n",
    "            \n",
    "            if x != initial_cursor_x or y != initial_cursor_y:\n",
    "                self.cursor_movement_length += self.vector_length(x - initial_cursor_x, y - initial_cursor_y)\n",
    "                self.num_cursor_movements += 1\n",
    "                initial_cursor_x = x\n",
    "                initial_cursor_y = y\n",
    "                \n",
    "            if tx != initial_target_x or ty != initial_target_y:\n",
    "                self.num_target_movements += 1\n",
    "                self.target_movement_length += self.vector_length(tx - initial_target_x, ty - initial_target_y)\n",
    "                initial_target_x = tx\n",
    "                initial_target_y = ty\n",
    "              \n",
    "    def __repr__(self):\n",
    "        return \"condition:{0}\\npid: {1}\\nrun_id: {2}\\ncollisions:{3}\\nerrors:{4}\\nduration:{5} ms\\ncursor movements:{6}\\ncursor movement length:{7}\\ntarget movements:{8}\\ntarget movement length:{9}\\n\\n\".format(\n",
    "            self.condition,\n",
    "            self.pid,\n",
    "            self.run_id,\n",
    "            self.collisions,\n",
    "            self.errors,\n",
    "            self.run_duration,\n",
    "            self.num_cursor_movements,\n",
    "            self.cursor_movement_length,\n",
    "            self.num_target_movements,\n",
    "            self.target_movement_length)\n",
    "    \n",
    "    def vector_length(self, u, v):\n",
    "        return math.sqrt(u * u + v * v)\n",
    "    "
   ]
  },
  {
   "cell_type": "code",
   "execution_count": 5,
   "metadata": {
    "execution": {
     "iopub.execute_input": "2021-03-12T11:07:50.557099Z",
     "iopub.status.busy": "2021-03-12T11:07:50.556482Z",
     "iopub.status.idle": "2021-03-12T11:07:50.696089Z",
     "shell.execute_reply": "2021-03-12T11:07:50.696526Z"
    }
   },
   "outputs": [],
   "source": [
    "conditions = []\n",
    "\n",
    "for df in dff:\n",
    "    conditions.append([])\n",
    "    \n",
    "    for pid in pids:\n",
    "        dfp = df[df[\"pid\"] == pid]\n",
    "        \n",
    "        for rid in range(1, max(df[\"run_id\"])):\n",
    "            dfpr = dfp[dfp[\"run_id\"] == rid]\n",
    "            \n",
    "            conditions[-1].append(Run(dfpr))"
   ]
  },
  {
   "cell_type": "markdown",
   "metadata": {},
   "source": [
    "# Results"
   ]
  },
  {
   "cell_type": "markdown",
   "metadata": {},
   "source": [
    "## Duration"
   ]
  },
  {
   "cell_type": "code",
   "execution_count": 6,
   "metadata": {
    "execution": {
     "iopub.execute_input": "2021-03-12T11:07:50.704686Z",
     "iopub.status.busy": "2021-03-12T11:07:50.703954Z",
     "iopub.status.idle": "2021-03-12T11:07:51.111249Z",
     "shell.execute_reply": "2021-03-12T11:07:51.111858Z"
    }
   },
   "outputs": [
    {
     "name": "stdout",
     "output_type": "stream",
     "text": [
      "condition: Factor 0.1 MUI has mean duration of 746.0 ms\n",
      "condition: Factor 0.1 MUI has median duration of 634.5 ms\n",
      "\n",
      "condition: Factor 0.5 MUI has mean duration of 768.375 ms\n",
      "condition: Factor 0.5 MUI has median duration of 723.5 ms\n",
      "\n",
      "condition: Static UI has mean duration of 791.5 ms\n",
      "condition: Static UI has median duration of 831.0 ms\n",
      "\n",
      "condition: Static UI with 1.5x CD Gain has mean duration of 887.25 ms\n",
      "condition: Static UI with 1.5x CD Gain has median duration of 909.5 ms\n",
      "\n",
      "condition: Factor 0.25 MUI has mean duration of 885.875 ms\n",
      "condition: Factor 0.25 MUI has median duration of 783.5 ms\n",
      "\n",
      "condition: Factor 0.75 MUI has mean duration of 668.625 ms\n",
      "condition: Factor 0.75 MUI has median duration of 633.0 ms\n",
      "\n"
     ]
    },
    {
     "data": {
      "text/plain": [
       "([<matplotlib.axis.XTick at 0x7fbf50c69e10>,\n",
       "  <matplotlib.axis.XTick at 0x7fbf50c69510>,\n",
       "  <matplotlib.axis.XTick at 0x7fbf50c69350>,\n",
       "  <matplotlib.axis.XTick at 0x7fbf56214810>,\n",
       "  <matplotlib.axis.XTick at 0x7fbf56214d50>,\n",
       "  <matplotlib.axis.XTick at 0x7fbf5621c390>],\n",
       " <a list of 6 Text xticklabel objects>)"
      ]
     },
     "execution_count": 1,
     "metadata": {},
     "output_type": "execute_result"
    },
    {
     "data": {
      "image/png": "[encoded data removed]",
      "text/plain": [
       "<Figure size 1152x648 with 1 Axes>"
      ]
     },
     "metadata": {
      "needs_background": "light"
     },
     "output_type": "display_data"
    }
   ],
   "source": [
    "durations = {}\n",
    "\n",
    "for condition in conditions:\n",
    "    durations[condition[0].condition] = [run.run_duration for run in condition]\n",
    "        \n",
    "ticks = []\n",
    "data = []\n",
    "\n",
    "for condition, duration_measurements in durations.items(): \n",
    "    cond_name = \"Static UI\" if condition == 0 else \"Factor 0.25 MUI\" if condition == 1 else \"Factor 0.5 MUI\" if condition == 2 else \"Factor 0.75 MUI\" if condition == 3 else \"Factor 0.1 MUI\" if condition == 4  else \"Static UI with 1.5x CD Gain\"\n",
    "    \n",
    "    print(\"condition: {0} has mean duration of {1} ms\".format(cond_name, np.mean(duration_measurements)))\n",
    "    print(\"condition: {0} has median duration of {1} ms\".format(cond_name, np.median(duration_measurements)))\n",
    "    print()\n",
    "    \n",
    "    data.append(duration_measurements)\n",
    "    ticks.append(cond_name)\n",
    "\n",
    "fig = plt.figure()\n",
    "fig.suptitle('TCT Comparison between static UI and MUI variants', fontsize=14, fontweight='bold')\n",
    "\n",
    "ax = fig.add_subplot(111)\n",
    "ax.boxplot(data)\n",
    "ax.set_xlabel('UI variants')\n",
    "ax.set_ylabel('Task Completion Time in ms')\n",
    "ax.set_ylim(bottom=0)\n",
    "xticks([i + 1 for i in range(len(ticks))], ticks)\n"
   ]
  },
  {
   "cell_type": "code",
   "execution_count": 7,
   "metadata": {
    "execution": {
     "iopub.execute_input": "2021-03-12T11:07:51.122404Z",
     "iopub.status.busy": "2021-03-12T11:07:51.120264Z",
     "iopub.status.idle": "2021-03-12T11:07:51.130021Z",
     "shell.execute_reply": "2021-03-12T11:07:51.130657Z"
    },
    "scrolled": true
   },
   "outputs": [
    {
     "name": "stdout",
     "output_type": "stream",
     "text": [
      "Static UI vs Factor 0.25 MUI -> p = 0.43422088847256746\n",
      "Static UI vs Factor 0.5 MUI -> p = 0.7611734064281968\n",
      "Static UI vs Factor 0.75 MUI -> p = 0.14115237802172262\n",
      "Static UI vs Factor 0.1 MUI -> p = 0.6534477951068158\n",
      "Static UI vs Static UI with 1.5x CD Gain -> p = 0.1695528364606544\n",
      "\n",
      "Factor 0.25 MUI vs Static UI -> p = 0.43422088847256746\n",
      "Factor 0.25 MUI vs Factor 0.5 MUI -> p = 0.4183291565063665\n",
      "Factor 0.25 MUI vs Factor 0.75 MUI -> p = 0.12978812759549052\n",
      "Factor 0.25 MUI vs Factor 0.1 MUI -> p = 0.3538489996906992\n",
      "Factor 0.25 MUI vs Static UI with 1.5x CD Gain -> p = 0.9915962470664179\n",
      "\n",
      "Factor 0.5 MUI vs Static UI -> p = 0.7611734064281968\n",
      "Factor 0.5 MUI vs Factor 0.25 MUI -> p = 0.4183291565063665\n",
      "Factor 0.5 MUI vs Factor 0.75 MUI -> p = 0.2147730357833594\n",
      "Factor 0.5 MUI vs Factor 0.1 MUI -> p = 0.8305417423220436\n",
      "Factor 0.5 MUI vs Static UI with 1.5x CD Gain -> p = 0.16320871539644718\n",
      "\n",
      "Factor 0.75 MUI vs Static UI -> p = 0.14115237802172262\n",
      "Factor 0.75 MUI vs Factor 0.25 MUI -> p = 0.12978812759549052\n",
      "Factor 0.75 MUI vs Factor 0.5 MUI -> p = 0.2147730357833594\n",
      "Factor 0.75 MUI vs Factor 0.1 MUI -> p = 0.460508260905366\n",
      "Factor 0.75 MUI vs Static UI with 1.5x CD Gain -> p = 0.001819033220651307\n",
      "\n",
      "Factor 0.1 MUI vs Static UI -> p = 0.6534477951068158\n",
      "Factor 0.1 MUI vs Factor 0.25 MUI -> p = 0.3538489996906992\n",
      "Factor 0.1 MUI vs Factor 0.5 MUI -> p = 0.8305417423220436\n",
      "Factor 0.1 MUI vs Factor 0.75 MUI -> p = 0.460508260905366\n",
      "Factor 0.1 MUI vs Static UI with 1.5x CD Gain -> p = 0.07810888871350438\n",
      "\n",
      "Static UI with 1.5x CD Gain vs Static UI -> p = 0.1695528364606544\n",
      "Static UI with 1.5x CD Gain vs Factor 0.25 MUI -> p = 0.9915962470664179\n",
      "Static UI with 1.5x CD Gain vs Factor 0.5 MUI -> p = 0.16320871539644718\n",
      "Static UI with 1.5x CD Gain vs Factor 0.75 MUI -> p = 0.001819033220651307\n",
      "Static UI with 1.5x CD Gain vs Factor 0.1 MUI -> p = 0.07810888871350438\n",
      "\n"
     ]
    }
   ],
   "source": [
    "from scipy.stats import ttest_rel as ttest\n",
    "\n",
    "static_durations = durations[0]\n",
    "factor025_durations = durations[1]\n",
    "factor05_durations = durations[2]\n",
    "factor075_durations = durations[3]\n",
    "factor1_durations = durations[4]\n",
    "static15cdg_durations = durations[5]\n",
    "\n",
    "def getConditionName(cond):\n",
    "    cond_name = \"Static UI\" if cond == 0 else \"Factor 0.25 MUI\" if cond == 1 else \"Factor 0.5 MUI\" if cond == 2 else \"Factor 0.75 MUI\" if cond == 3 else \"Factor 0.1 MUI\" if cond == 4  else \"Static UI with 1.5x CD Gain\"\n",
    "    return cond_name\n",
    "    \n",
    "for cond in range(6):\n",
    "    cond_name = getConditionName(cond)\n",
    "    for condToCompare in range(6):\n",
    "        if cond != condToCompare:\n",
    "            condToCompare_name = getConditionName(condToCompare)\n",
    "            print(cond_name + \" vs \" + condToCompare_name + \" -> p = {}\".format(ttest(durations[cond], durations[condToCompare])[1]))\n",
    "    print()"
   ]
  },
  {
   "cell_type": "markdown",
   "metadata": {},
   "source": [
    "## Errors"
   ]
  },
  {
   "cell_type": "code",
   "execution_count": 8,
   "metadata": {
    "execution": {
     "iopub.execute_input": "2021-03-12T11:07:51.136843Z",
     "iopub.status.busy": "2021-03-12T11:07:51.136132Z",
     "iopub.status.idle": "2021-03-12T11:07:51.140153Z",
     "shell.execute_reply": "2021-03-12T11:07:51.140620Z"
    }
   },
   "outputs": [
    {
     "name": "stdout",
     "output_type": "stream",
     "text": [
      "Errors for Static UI: 0\n",
      "Static UI vs Factor 0.25 MUI -> -100.0%\n",
      "Static UI vs Factor 0.5 MUI -> -100.0%\n",
      "Static UI vs Factor 0.75 MUI -> -100.0%\n",
      "Static UI vs Factor 0.1 MUI -> -100.0%\n",
      "Static UI vs Static UI with 1.5x CD Gain -> -100.0%\n",
      "\n",
      "Errors for Factor 0.25 MUI: 5\n",
      "Factor 0.25 MUI vs Static UI -> inf%\n",
      "Factor 0.25 MUI vs Factor 0.5 MUI -> 66.66666666666669%\n",
      "Factor 0.25 MUI vs Factor 0.75 MUI -> 400.0%\n",
      "Factor 0.25 MUI vs Factor 0.1 MUI -> 150.0%\n",
      "Factor 0.25 MUI vs Static UI with 1.5x CD Gain -> 66.66666666666669%\n",
      "\n",
      "Errors for Factor 0.5 MUI: 3\n",
      "Factor 0.5 MUI vs Static UI -> inf%\n",
      "Factor 0.5 MUI vs Factor 0.25 MUI -> -40.0%\n",
      "Factor 0.5 MUI vs Factor 0.75 MUI -> 200.0%\n",
      "Factor 0.5 MUI vs Factor 0.1 MUI -> 50.0%\n",
      "Factor 0.5 MUI vs Static UI with 1.5x CD Gain -> 0.0%\n",
      "\n",
      "Errors for Factor 0.75 MUI: 1\n",
      "Factor 0.75 MUI vs Static UI -> inf%\n",
      "Factor 0.75 MUI vs Factor 0.25 MUI -> -80.0%\n",
      "Factor 0.75 MUI vs Factor 0.5 MUI -> -66.66666666666666%\n",
      "Factor 0.75 MUI vs Factor 0.1 MUI -> -50.0%\n",
      "Factor 0.75 MUI vs Static UI with 1.5x CD Gain -> -66.66666666666666%\n",
      "\n",
      "Errors for Factor 0.1 MUI: 2\n",
      "Factor 0.1 MUI vs Static UI -> inf%\n",
      "Factor 0.1 MUI vs Factor 0.25 MUI -> -60.0%\n",
      "Factor 0.1 MUI vs Factor 0.5 MUI -> -33.33333333333333%\n",
      "Factor 0.1 MUI vs Factor 0.75 MUI -> 100.0%\n",
      "Factor 0.1 MUI vs Static UI with 1.5x CD Gain -> -33.33333333333333%\n",
      "\n",
      "Errors for Static UI with 1.5x CD Gain: 3\n",
      "Static UI with 1.5x CD Gain vs Static UI -> inf%\n",
      "Static UI with 1.5x CD Gain vs Factor 0.25 MUI -> -40.0%\n",
      "Static UI with 1.5x CD Gain vs Factor 0.5 MUI -> 0.0%\n",
      "Static UI with 1.5x CD Gain vs Factor 0.75 MUI -> 200.0%\n",
      "Static UI with 1.5x CD Gain vs Factor 0.1 MUI -> 50.0%\n",
      "\n"
     ]
    },
    {
     "name": "stderr",
     "output_type": "stream",
     "text": [
      "/Library/Frameworks/Python.framework/Versions/3.7/lib/python3.7/site-packages/ipykernel_launcher.py:2: RuntimeWarning: divide by zero encountered in true_divide\n",
      "  \n"
     ]
    }
   ],
   "source": [
    "def increase_in_percent(counter, denominator):\n",
    "    return (counter / (denominator / 100)) - 100\n",
    "\n",
    "errors = {}\n",
    "\n",
    "for condition in conditions:\n",
    "    errors[condition[0].condition] = sum([run.errors for run in condition])\n",
    "\n",
    "for cond in range(6):\n",
    "    cond_name = getConditionName(cond)\n",
    "    print(\"Errors for \" + cond_name + \": {}\".format(errors[cond]))\n",
    "    for condToCompare in range(6):\n",
    "        if cond != condToCompare:\n",
    "            condToCompare_name = getConditionName(condToCompare)\n",
    "            print(cond_name + \" vs \" + condToCompare_name + \" -> {}%\".format(increase_in_percent(errors[cond], errors[condToCompare])))\n",
    "    print(\"\")"
   ]
  },
  {
   "cell_type": "markdown",
   "metadata": {},
   "source": [
    "## Covered Distances"
   ]
  },
  {
   "cell_type": "code",
   "execution_count": 9,
   "metadata": {
    "execution": {
     "iopub.execute_input": "2021-03-12T11:07:51.145376Z",
     "iopub.status.busy": "2021-03-12T11:07:51.144638Z",
     "iopub.status.idle": "2021-03-12T11:07:51.146773Z",
     "shell.execute_reply": "2021-03-12T11:07:51.147294Z"
    }
   },
   "outputs": [],
   "source": [
    "# covered_distance\n",
    "mean_covered_distances_cursor = {}\n",
    "\n",
    "for condition in conditions:\n",
    "    mean_covered_distances_cursor[condition[0].condition] = sum([run.cursor_movement_length for run in condition]) / len([run.cursor_movement_length for run in condition])"
   ]
  },
  {
   "cell_type": "code",
   "execution_count": 10,
   "metadata": {
    "execution": {
     "iopub.execute_input": "2021-03-12T11:07:51.152010Z",
     "iopub.status.busy": "2021-03-12T11:07:51.151350Z",
     "iopub.status.idle": "2021-03-12T11:07:51.153731Z",
     "shell.execute_reply": "2021-03-12T11:07:51.154203Z"
    }
   },
   "outputs": [
    {
     "name": "stdout",
     "output_type": "stream",
     "text": [
      "Mean covered distance of cursor for Static UI: 344.06519166676276px\n",
      "Mean covered distance of cursor for Factor 0.25 MUI: 314.7779124525265px\n",
      "Mean covered distance of cursor for Factor 0.5 MUI: 260.5311398300616px\n",
      "Mean covered distance of cursor for Factor 0.75 MUI: 217.98997767314518px\n",
      "Mean covered distance of cursor for Factor 0.1 MUI: 263.2250370725401px\n",
      "Mean covered distance of cursor for Static UI with 1.5x CD Gain: 464.77631956094683px\n"
     ]
    }
   ],
   "source": [
    "static_mean_covered_distance = mean_covered_distances_cursor[0]\n",
    "factor05_mean_covered_distance = mean_covered_distances_cursor[1]\n",
    "factor1_mean_covered_distance = mean_covered_distances_cursor[2]\n",
    "static15cdg_mean_covered_distance = mean_covered_distances_cursor[3]\n",
    "\n",
    "\n",
    "for cond in range(6):\n",
    "    cond_name = getConditionName(cond)\n",
    "    print(\"Mean covered distance of cursor for \" + cond_name + \": {}px\".format(mean_covered_distances_cursor[cond]))"
   ]
  },
  {
   "cell_type": "markdown",
   "metadata": {},
   "source": [
    "## Most notable observation"
   ]
  },
  {
   "cell_type": "markdown",
   "metadata": {},
   "source": [
    "WIP"
   ]
  },
  {
   "cell_type": "code",
   "execution_count": null,
   "metadata": {},
   "outputs": [],
   "source": []
  },
  {
   "cell_type": "code",
   "execution_count": null,
   "metadata": {},
   "outputs": [],
   "source": []
  }
 ],
 "metadata": {
  "kernelspec": {
   "display_name": "Python 3",
   "language": "python",
   "name": "python3"
  },
  "language_info": {
   "codemirror_mode": {
    "name": "ipython",
    "version": 3
   },
   "file_extension": ".py",
   "mimetype": "text/x-python",
   "name": "python",
   "nbconvert_exporter": "python",
   "pygments_lexer": "ipython3",
   "version": "3.7.7"
  }
 },
 "nbformat": 4,
 "nbformat_minor": 4
}

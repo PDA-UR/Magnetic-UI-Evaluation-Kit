{
 "cells": [
  {
   "cell_type": "code",
   "execution_count": 1,
   "metadata": {
    "execution": {
     "iopub.execute_input": "2021-03-12T11:07:49.385612Z",
     "iopub.status.busy": "2021-03-12T11:07:49.384756Z",
     "iopub.status.idle": "2021-03-12T11:07:50.499921Z",
     "shell.execute_reply": "2021-03-12T11:07:50.500433Z"
    }
   },
   "outputs": [],
   "source": [
    "import csv\n",
    "%matplotlib inline\n",
    "from pylab import *\n",
    "rcParams['figure.figsize'] = (16,9)\n",
    "rcParams['font.size'] = 12\n",
    "import numpy as np\n",
    "import scipy as sp\n",
    "import os \n",
    "import glob\n",
    "import pandas as pd\n",
    "import seaborn as sns\n",
    "\n",
    "#pd.set_option(\"display.max_rows\", None, \"display.max_columns\", None)\n",
    "\n",
    "data_path = os.getcwd()\n",
    "data_extension = \"csv\"\n",
    "\n",
    "os.chdir(data_path)"
   ]
  },
  {
   "cell_type": "code",
   "execution_count": 2,
   "metadata": {
    "execution": {
     "iopub.execute_input": "2021-03-12T11:07:50.504918Z",
     "iopub.status.busy": "2021-03-12T11:07:50.504256Z",
     "iopub.status.idle": "2021-03-12T11:07:50.507874Z",
     "shell.execute_reply": "2021-03-12T11:07:50.508317Z"
    }
   },
   "outputs": [],
   "source": [
    "result = [file for file in glob.glob(\"/home/juergen/Desktop/logs_phase1/\" + '*.{}'.format(data_extension))]\n",
    "participants, hashes = result.pop(result.index('/home/juergen/Desktop/logs_phase1/pids_phase1.csv')), result.pop(result.index('/home/juergen/Desktop/logs_phase1/hashes_phase1.csv'))"
   ]
  },
  {
   "cell_type": "code",
   "execution_count": 3,
   "metadata": {
    "execution": {
     "iopub.execute_input": "2021-03-12T11:07:50.513466Z",
     "iopub.status.busy": "2021-03-12T11:07:50.512828Z",
     "iopub.status.idle": "2021-03-12T11:07:50.536754Z",
     "shell.execute_reply": "2021-03-12T11:07:50.537381Z"
    }
   },
   "outputs": [],
   "source": [
    "dff = [pd.read_csv(f, delimiter = ',') for f in result]\n",
    "\n",
    "concats = {}\n",
    "\n",
    "for df in dff:\n",
    "    condition_id = list(df[\"condition_id\"])[0]\n",
    "    \n",
    "    if not condition_id in concats:\n",
    "        concats[condition_id] = df\n",
    "    else:\n",
    "        concats[condition_id] = pd.concat([concats[condition_id], df])\n",
    "        \n",
    "dff = concats.values()\n",
    "\n",
    "pids = list(concats[0].pid.unique())"
   ]
  },
  {
   "cell_type": "code",
   "execution_count": 4,
   "metadata": {
    "execution": {
     "iopub.execute_input": "2021-03-12T11:07:50.550470Z",
     "iopub.status.busy": "2021-03-12T11:07:50.549650Z",
     "iopub.status.idle": "2021-03-12T11:07:50.551695Z",
     "shell.execute_reply": "2021-03-12T11:07:50.552204Z"
    }
   },
   "outputs": [],
   "source": [
    "import math\n",
    "\n",
    "class Run:\n",
    "    def __init__(self, data):\n",
    "        self.data = data\n",
    "                        \n",
    "        self.condition = list(data[\"condition_id\"])[0]\n",
    "        \n",
    "        self.pid = list(data[\"pid\"])[-1]        \n",
    "        self.run_id = list(data[\"run_id\"])[-1]\n",
    "        self.run_starttime = list(data[\"timestampConditionStart\"])[0]\n",
    "        self.successful_click_time = list(data[\"timestampClick\"])[-1]\n",
    "        \n",
    "        self.run_duration = float(self.successful_click_time) - float(self.run_starttime)\n",
    "        self.errors = len(list(data[\"timestampClick\"])) - list(data[\"timestampClick\"]).count(\"oldval\") - 1\n",
    "              \n",
    "        ###########################\n",
    "        self.collisions = 0\n",
    "        initial_collision_ts = list(data[\"timestampCollision\"])[0]\n",
    "\n",
    "        for i in list(data[\"timestampCollision\"]):\n",
    "            if initial_collision_ts != i:\n",
    "                self.collisions += 1\n",
    "                initial_collision_ts = i        \n",
    "        \n",
    "        ##############################\n",
    "       \n",
    "        self.num_cursor_movements = 0\n",
    "        self.cursor_movement_length = 0\n",
    "        self.num_target_movements = 0\n",
    "        self.target_movement_length = 0\n",
    "        \n",
    "        initial_cursor_x = int(float(list(data[\"cursorX\"])[0]))\n",
    "        initial_cursor_y = int(float(list(data[\"cursorY\"])[0]))\n",
    "        initial_target_x = int(float(list(data[\"targetX\"])[0]))\n",
    "        initial_target_y = int(float(list(data[\"targetY\"])[0]))\n",
    "        \n",
    "        for i in range(0, len(list(data[\"cursorX\"]))):\n",
    "            x, y = int(float(list(data[\"cursorX\"])[i])), int(float(list(data[\"cursorY\"])[i]))\n",
    "            tx, ty = int(float(list(data[\"targetX\"])[i])), int(float(list(data[\"targetY\"])[i]))\n",
    "            \n",
    "            if x != initial_cursor_x or y != initial_cursor_y:\n",
    "                self.cursor_movement_length += self.vector_length(x - initial_cursor_x, y - initial_cursor_y)\n",
    "                self.num_cursor_movements += 1\n",
    "                initial_cursor_x = x\n",
    "                initial_cursor_y = y\n",
    "                \n",
    "            if tx != initial_target_x or ty != initial_target_y:\n",
    "                self.num_target_movements += 1\n",
    "                self.target_movement_length += self.vector_length(tx - initial_target_x, ty - initial_target_y)\n",
    "                initial_target_x = tx\n",
    "                initial_target_y = ty\n",
    "              \n",
    "    def __repr__(self):\n",
    "        return \"condition:{0}\\npid: {1}\\nrun_id: {2}\\ncollisions:{3}\\nerrors:{4}\\nduration:{5} ms\\ncursor movements:{6}\\ncursor movement length:{7}\\ntarget movements:{8}\\ntarget movement length:{9}\\n\\n\".format(\n",
    "            self.condition,\n",
    "            self.pid,\n",
    "            self.run_id,\n",
    "            self.collisions,\n",
    "            self.errors,\n",
    "            self.run_duration,\n",
    "            self.num_cursor_movements,\n",
    "            self.cursor_movement_length,\n",
    "            self.num_target_movements,\n",
    "            self.target_movement_length)\n",
    "    \n",
    "    def vector_length(self, u, v):\n",
    "        return math.sqrt(u * u + v * v)\n",
    "    "
   ]
  },
  {
   "cell_type": "code",
   "execution_count": 5,
   "metadata": {
    "execution": {
     "iopub.execute_input": "2021-03-12T11:07:50.557099Z",
     "iopub.status.busy": "2021-03-12T11:07:50.556482Z",
     "iopub.status.idle": "2021-03-12T11:07:50.696089Z",
     "shell.execute_reply": "2021-03-12T11:07:50.696526Z"
    }
   },
   "outputs": [],
   "source": [
    "conditions = []\n",
    "\n",
    "for df in dff:\n",
    "    conditions.append([])\n",
    "    \n",
    "    for pid in pids:\n",
    "        dfp = df[df[\"pid\"] == pid]\n",
    "        \n",
    "        for rid in range(1, max(df[\"run_id\"])):\n",
    "            dfpr = dfp[dfp[\"run_id\"] == rid]\n",
    "            conditions[-1].append(Run(dfpr))"
   ]
  },
  {
   "cell_type": "markdown",
   "metadata": {},
   "source": [
    "# Results"
   ]
  },
  {
   "cell_type": "markdown",
   "metadata": {},
   "source": [
    "## Demographics"
   ]
  },
  {
   "cell_type": "code",
   "execution_count": 6,
   "metadata": {},
   "outputs": [],
   "source": [
    "def range_mean_median_sd(label, data):\n",
    "    data = [i if i == i and i != '-' else 0 for i in data]\n",
    "    \n",
    "    min_data = min(data)\n",
    "    max_data = max(data)\n",
    "    mean_data = np.mean(data)\n",
    "    median_data = np.median(data)\n",
    "    sd_data = sp.stats.tstd(data)\n",
    "\n",
    "    print(\"{0} ranges from {1} to {2} with a mean of {3} (sd. {4}) and median of {5}\".format(label, min_data, max_data, mean_data, sd_data, median_data))\n",
    "\n",
    "def occurence_dictionary(data):    \n",
    "    ret = {}\n",
    "    \n",
    "    for i in list(data):    \n",
    "        if i != i or i == '-':\n",
    "            i = 'unpspecified'\n",
    "            \n",
    "        ret[i.lower().rstrip()] = ret.get(i.lower().rstrip(), 0) + 1\n",
    "        \n",
    "    return ret\n",
    "    \n",
    "pdf = pd.read_csv(participants, delimiter = ',')\n",
    "pdf = pdf[pdf.hasFinished != 0 ]"
   ]
  },
  {
   "cell_type": "markdown",
   "metadata": {},
   "source": [
    "### Gender"
   ]
  },
  {
   "cell_type": "code",
   "execution_count": 7,
   "metadata": {},
   "outputs": [
    {
     "name": "stdout",
     "output_type": "stream",
     "text": [
      "{'männlich': 2}\n"
     ]
    }
   ],
   "source": [
    "genders = occurence_dictionary(pdf[\"Geschlecht\"])\n",
    "print(genders)"
   ]
  },
  {
   "cell_type": "markdown",
   "metadata": {},
   "source": [
    "### Age"
   ]
  },
  {
   "cell_type": "code",
   "execution_count": 8,
   "metadata": {},
   "outputs": [
    {
     "name": "stdout",
     "output_type": "stream",
     "text": [
      "Age ranges from 20 to 22 with a mean of 21.0 (sd. 1.4142135623730951) and median of 21.0\n"
     ]
    }
   ],
   "source": [
    "ages = list(pdf[\"Alter\"])\n",
    "range_mean_median_sd(\"Age\", ages)"
   ]
  },
  {
   "cell_type": "markdown",
   "metadata": {},
   "source": [
    "### Occupation"
   ]
  },
  {
   "cell_type": "code",
   "execution_count": 9,
   "metadata": {},
   "outputs": [
    {
     "name": "stdout",
     "output_type": "stream",
     "text": [
      "{'student': 2}\n"
     ]
    }
   ],
   "source": [
    "occupations = occurence_dictionary(pdf[\"Beruf\"])\n",
    "print(occupations)"
   ]
  },
  {
   "cell_type": "markdown",
   "metadata": {},
   "source": [
    "## Duration"
   ]
  },
  {
   "cell_type": "code",
   "execution_count": 10,
   "metadata": {
    "execution": {
     "iopub.execute_input": "2021-03-12T11:07:50.704686Z",
     "iopub.status.busy": "2021-03-12T11:07:50.703954Z",
     "iopub.status.idle": "2021-03-12T11:07:51.111249Z",
     "shell.execute_reply": "2021-03-12T11:07:51.111858Z"
    }
   },
   "outputs": [
    {
     "name": "stdout",
     "output_type": "stream",
     "text": [
      "Factor 0.25 MUI ranges from 483.0199999996694 to 2016.0 with a mean of 823.4742676766404 (sd. 240.44018252303763) and median of 809.759999999631\n",
      "\n",
      "Factor 1.0 MUI ranges from 453.57500000315486 to 2456.0 with a mean of 837.6257323233148 (sd. 288.13936775697397) and median of 831.0\n",
      "\n",
      "Cooldown ranges from 535.6899999970337 to 2343.0 with a mean of 834.1767346938622 (sd. 241.89437430870964) and median of 821.7474999999395\n",
      "\n",
      "Factor 0.5 MUI ranges from 481.0100000030943 to 2398.0 with a mean of 845.694924242482 (sd. 250.71837563759533) and median of 843.0\n",
      "\n",
      "Static UI with 1.5x CD Gain ranges from 535.9449999996286 to 3423.0 with a mean of 865.0866161615303 (sd. 265.5349112700899) and median of 812.9699999995937\n",
      "\n",
      "Static UI ranges from 544.0 to 2063.0 with a mean of 838.8173232324706 (sd. 227.21888989822753) and median of 791.5\n",
      "\n",
      "Factor 0.75 MUI ranges from 497.4399999991874 to 1408.0 with a mean of 811.0668939392381 (sd. 227.07633431164436) and median of 787.0\n",
      "\n",
      "Warmup ranges from 539.7449999982218 to 1319.0 with a mean of 851.332142857048 (sd. 167.07206665610298) and median of 820.7724999992915\n",
      "\n"
     ]
    },
    {
     "data": {
      "text/plain": [
       "([<matplotlib.axis.XTick at 0x7f2c5e855580>,\n",
       "  <matplotlib.axis.XTick at 0x7f2c5e855550>,\n",
       "  <matplotlib.axis.XTick at 0x7f2c5e8018e0>,\n",
       "  <matplotlib.axis.XTick at 0x7f2c5e7f4e50>,\n",
       "  <matplotlib.axis.XTick at 0x7f2c5e7823a0>,\n",
       "  <matplotlib.axis.XTick at 0x7f2c5e7828b0>],\n",
       " [Text(1, 0, 'Factor 0.25 MUI'),\n",
       "  Text(2, 0, 'Factor 1.0 MUI'),\n",
       "  Text(3, 0, 'Factor 0.5 MUI'),\n",
       "  Text(4, 0, 'Static UI with 1.5x CD Gain'),\n",
       "  Text(5, 0, 'Static UI'),\n",
       "  Text(6, 0, 'Factor 0.75 MUI')])"
      ]
     },
     "execution_count": 10,
     "metadata": {},
     "output_type": "execute_result"
    },
    {
     "data": {
      "image/png": "[encoded data removed]",
      "text/plain": [
       "<Figure size 1152x648 with 1 Axes>"
      ]
     },
     "metadata": {
      "needs_background": "light"
     },
     "output_type": "display_data"
    }
   ],
   "source": [
    "durations = {}\n",
    "\n",
    "for condition in conditions:\n",
    "    durations[condition[0].condition] = [run.run_duration for run in condition]\n",
    "        \n",
    "ticks = []\n",
    "data = []\n",
    "\n",
    "for condition, duration_measurements in durations.items(): \n",
    "    cond_name = \"Warmup\" if condition == -1 else \"Static UI\" if condition == 0 else \"Factor 0.25 MUI\" if condition == 1 else \"Factor 0.5 MUI\" if condition == 2 else \"Factor 0.75 MUI\" if condition == 3 else \"Factor 1.0 MUI\" if condition == 4  else \"Static UI with 1.5x CD Gain\" if condition == 5 else \"Cooldown\"\n",
    "    \n",
    "    range_mean_median_sd (cond_name, duration_measurements)\n",
    "    print()\n",
    "    \n",
    "    if cond_name != \"Warmup\" and cond_name != \"Cooldown\":\n",
    "        data.append(duration_measurements)\n",
    "        ticks.append(cond_name)\n",
    "\n",
    "fig = plt.figure()\n",
    "fig.suptitle('TCT Comparison between static UI and MUI variants', fontsize=14, fontweight='bold')\n",
    "\n",
    "ax = fig.add_subplot(111)\n",
    "ax.boxplot(data)\n",
    "ax.set_xlabel('UI variants')\n",
    "ax.set_ylabel('Task Completion Time in ms')\n",
    "ax.set_ylim(bottom=0)\n",
    "xticks([i + 1 for i in range(len(ticks))], ticks)\n"
   ]
  },
  {
   "cell_type": "code",
   "execution_count": 11,
   "metadata": {
    "execution": {
     "iopub.execute_input": "2021-03-12T11:07:51.122404Z",
     "iopub.status.busy": "2021-03-12T11:07:51.120264Z",
     "iopub.status.idle": "2021-03-12T11:07:51.130021Z",
     "shell.execute_reply": "2021-03-12T11:07:51.130657Z"
    },
    "scrolled": true
   },
   "outputs": [
    {
     "name": "stdout",
     "output_type": "stream",
     "text": [
      "Static UI vs Factor 0.25 MUI -> p = 0.4905279834480607\n",
      "Static UI vs Factor 0.5 MUI -> p = 0.7711418700203163\n",
      "Static UI vs Factor 0.75 MUI -> p = 0.18334722965305048\n",
      "Static UI vs Factor 1.0 MUI -> p = 0.963668761632166\n",
      "Static UI vs Static UI with 1.5x CD Gain -> p = 0.2776335564492708\n",
      "\n",
      "Factor 0.25 MUI vs Static UI -> p = 0.4905279834480607\n",
      "Factor 0.25 MUI vs Factor 0.5 MUI -> p = 0.29454767104331747\n",
      "Factor 0.25 MUI vs Factor 0.75 MUI -> p = 0.5538156230073061\n",
      "Factor 0.25 MUI vs Factor 1.0 MUI -> p = 0.56174044583461\n",
      "Factor 0.25 MUI vs Static UI with 1.5x CD Gain -> p = 0.10227074041692907\n",
      "\n",
      "Factor 0.5 MUI vs Static UI -> p = 0.7711418700203163\n",
      "Factor 0.5 MUI vs Factor 0.25 MUI -> p = 0.29454767104331747\n",
      "Factor 0.5 MUI vs Factor 0.75 MUI -> p = 0.11613806163888893\n",
      "Factor 0.5 MUI vs Factor 1.0 MUI -> p = 0.739967209548695\n",
      "Factor 0.5 MUI vs Static UI with 1.5x CD Gain -> p = 0.4418946833065822\n",
      "\n",
      "Factor 0.75 MUI vs Static UI -> p = 0.18334722965305048\n",
      "Factor 0.75 MUI vs Factor 0.25 MUI -> p = 0.5538156230073061\n",
      "Factor 0.75 MUI vs Factor 0.5 MUI -> p = 0.11613806163888893\n",
      "Factor 0.75 MUI vs Factor 1.0 MUI -> p = 0.25890092428408396\n",
      "Factor 0.75 MUI vs Static UI with 1.5x CD Gain -> p = 0.030812910444193042\n",
      "\n",
      "Factor 1.0 MUI vs Static UI -> p = 0.963668761632166\n",
      "Factor 1.0 MUI vs Factor 0.25 MUI -> p = 0.56174044583461\n",
      "Factor 1.0 MUI vs Factor 0.5 MUI -> p = 0.739967209548695\n",
      "Factor 1.0 MUI vs Factor 0.75 MUI -> p = 0.25890092428408396\n",
      "Factor 1.0 MUI vs Static UI with 1.5x CD Gain -> p = 0.2940703685604784\n",
      "\n",
      "Static UI with 1.5x CD Gain vs Static UI -> p = 0.2776335564492708\n",
      "Static UI with 1.5x CD Gain vs Factor 0.25 MUI -> p = 0.10227074041692907\n",
      "Static UI with 1.5x CD Gain vs Factor 0.5 MUI -> p = 0.4418946833065822\n",
      "Static UI with 1.5x CD Gain vs Factor 0.75 MUI -> p = 0.030812910444193042\n",
      "Static UI with 1.5x CD Gain vs Factor 1.0 MUI -> p = 0.2940703685604784\n",
      "\n"
     ]
    }
   ],
   "source": [
    "from scipy.stats import ttest_rel as ttest\n",
    "\n",
    "static_durations = durations[0]\n",
    "factor025_durations = durations[1]\n",
    "factor05_durations = durations[2]\n",
    "factor075_durations = durations[3]\n",
    "factor1_durations = durations[4]\n",
    "static15cdg_durations = durations[5]\n",
    "\n",
    "def getConditionName(cond):\n",
    "    cond_name = \"Static UI\" if cond == 0 else \"Factor 0.25 MUI\" if cond == 1 else \"Factor 0.5 MUI\" if cond == 2 else \"Factor 0.75 MUI\" if cond == 3 else \"Factor 1.0 MUI\" if cond == 4  else \"Static UI with 1.5x CD Gain\"\n",
    "    return cond_name\n",
    "    \n",
    "for cond in range(6):\n",
    "    cond_name = getConditionName(cond)\n",
    "    for condToCompare in range(6):\n",
    "        if cond != condToCompare:\n",
    "            condToCompare_name = getConditionName(condToCompare)\n",
    "            print(cond_name + \" vs \" + condToCompare_name + \" -> p = {}\".format(ttest(durations[cond], durations[condToCompare])[1]))\n",
    "    print()"
   ]
  },
  {
   "cell_type": "markdown",
   "metadata": {},
   "source": [
    "## Errors"
   ]
  },
  {
   "cell_type": "code",
   "execution_count": 12,
   "metadata": {
    "execution": {
     "iopub.execute_input": "2021-03-12T11:07:51.136843Z",
     "iopub.status.busy": "2021-03-12T11:07:51.136132Z",
     "iopub.status.idle": "2021-03-12T11:07:51.140153Z",
     "shell.execute_reply": "2021-03-12T11:07:51.140620Z"
    }
   },
   "outputs": [
    {
     "name": "stdout",
     "output_type": "stream",
     "text": [
      "Errors for Static UI: 38\n",
      "Static UI vs Factor 0.25 MUI -> -15.555555555555557%\n",
      "Static UI vs Factor 0.5 MUI -> -11.627906976744185%\n",
      "Static UI vs Factor 0.75 MUI -> -2.564102564102569%\n",
      "Static UI vs Factor 1.0 MUI -> -25.490196078431367%\n",
      "Static UI vs Static UI with 1.5x CD Gain -> -44.927536231884055%\n",
      "\n",
      "Errors for Factor 0.25 MUI: 45\n",
      "Factor 0.25 MUI vs Static UI -> 18.421052631578945%\n",
      "Factor 0.25 MUI vs Factor 0.5 MUI -> 4.651162790697683%\n",
      "Factor 0.25 MUI vs Factor 0.75 MUI -> 15.384615384615387%\n",
      "Factor 0.25 MUI vs Factor 1.0 MUI -> -11.764705882352942%\n",
      "Factor 0.25 MUI vs Static UI with 1.5x CD Gain -> -34.78260869565217%\n",
      "\n",
      "Errors for Factor 0.5 MUI: 43\n",
      "Factor 0.5 MUI vs Static UI -> 13.15789473684211%\n",
      "Factor 0.5 MUI vs Factor 0.25 MUI -> -4.444444444444443%\n",
      "Factor 0.5 MUI vs Factor 0.75 MUI -> 10.256410256410248%\n",
      "Factor 0.5 MUI vs Factor 1.0 MUI -> -15.686274509803923%\n",
      "Factor 0.5 MUI vs Static UI with 1.5x CD Gain -> -37.68115942028985%\n",
      "\n",
      "Errors for Factor 0.75 MUI: 39\n",
      "Factor 0.75 MUI vs Static UI -> 2.631578947368425%\n",
      "Factor 0.75 MUI vs Factor 0.25 MUI -> -13.333333333333329%\n",
      "Factor 0.75 MUI vs Factor 0.5 MUI -> -9.302325581395351%\n",
      "Factor 0.75 MUI vs Factor 1.0 MUI -> -23.529411764705884%\n",
      "Factor 0.75 MUI vs Static UI with 1.5x CD Gain -> -43.47826086956521%\n",
      "\n",
      "Errors for Factor 1.0 MUI: 51\n",
      "Factor 1.0 MUI vs Static UI -> 34.21052631578948%\n",
      "Factor 1.0 MUI vs Factor 0.25 MUI -> 13.333333333333329%\n",
      "Factor 1.0 MUI vs Factor 0.5 MUI -> 18.604651162790702%\n",
      "Factor 1.0 MUI vs Factor 0.75 MUI -> 30.769230769230774%\n",
      "Factor 1.0 MUI vs Static UI with 1.5x CD Gain -> -26.086956521739125%\n",
      "\n",
      "Errors for Static UI with 1.5x CD Gain: 69\n",
      "Static UI with 1.5x CD Gain vs Static UI -> 81.57894736842104%\n",
      "Static UI with 1.5x CD Gain vs Factor 0.25 MUI -> 53.33333333333334%\n",
      "Static UI with 1.5x CD Gain vs Factor 0.5 MUI -> 60.465116279069775%\n",
      "Static UI with 1.5x CD Gain vs Factor 0.75 MUI -> 76.9230769230769%\n",
      "Static UI with 1.5x CD Gain vs Factor 1.0 MUI -> 35.29411764705881%\n",
      "\n"
     ]
    }
   ],
   "source": [
    "def increase_in_percent(counter, denominator):\n",
    "    return (counter / (denominator / 100)) - 100\n",
    "\n",
    "errors = {}\n",
    "\n",
    "for condition in conditions:\n",
    "    errors[condition[0].condition] = sum([run.errors for run in condition])\n",
    "\n",
    "for cond in range(6):\n",
    "    cond_name = getConditionName(cond)\n",
    "    print(\"Errors for \" + cond_name + \": {}\".format(errors[cond]))\n",
    "    for condToCompare in range(6):\n",
    "        if cond != condToCompare:\n",
    "            condToCompare_name = getConditionName(condToCompare)\n",
    "            print(cond_name + \" vs \" + condToCompare_name + \" -> {}%\".format(increase_in_percent(errors[cond], errors[condToCompare])))\n",
    "    print(\"\")"
   ]
  },
  {
   "cell_type": "markdown",
   "metadata": {},
   "source": [
    "## Covered Distances"
   ]
  },
  {
   "cell_type": "code",
   "execution_count": 13,
   "metadata": {
    "execution": {
     "iopub.execute_input": "2021-03-12T11:07:51.145376Z",
     "iopub.status.busy": "2021-03-12T11:07:51.144638Z",
     "iopub.status.idle": "2021-03-12T11:07:51.146773Z",
     "shell.execute_reply": "2021-03-12T11:07:51.147294Z"
    }
   },
   "outputs": [],
   "source": [
    "# covered_distance\n",
    "mean_covered_distances_cursor = {}\n",
    "\n",
    "for condition in conditions:\n",
    "    mean_covered_distances_cursor[condition[0].condition] = sum([run.cursor_movement_length for run in condition]) / len([run.cursor_movement_length for run in condition])"
   ]
  },
  {
   "cell_type": "code",
   "execution_count": 14,
   "metadata": {
    "execution": {
     "iopub.execute_input": "2021-03-12T11:07:51.152010Z",
     "iopub.status.busy": "2021-03-12T11:07:51.151350Z",
     "iopub.status.idle": "2021-03-12T11:07:51.153731Z",
     "shell.execute_reply": "2021-03-12T11:07:51.154203Z"
    }
   },
   "outputs": [
    {
     "name": "stdout",
     "output_type": "stream",
     "text": [
      "Mean covered distance of cursor for Static UI: 505.81378925140143px\n",
      "Mean covered distance of cursor for Factor 0.25 MUI: 417.9027967551311px\n",
      "Mean covered distance of cursor for Factor 0.5 MUI: 306.607575523296px\n",
      "Mean covered distance of cursor for Factor 0.75 MUI: 283.95084392399446px\n",
      "Mean covered distance of cursor for Factor 1.0 MUI: 279.98188145576916px\n",
      "Mean covered distance of cursor for Static UI with 1.5x CD Gain: 519.3840926831847px\n"
     ]
    }
   ],
   "source": [
    "static_mean_covered_distance = mean_covered_distances_cursor[0]\n",
    "factor05_mean_covered_distance = mean_covered_distances_cursor[1]\n",
    "factor1_mean_covered_distance = mean_covered_distances_cursor[2]\n",
    "static15cdg_mean_covered_distance = mean_covered_distances_cursor[3]\n",
    "\n",
    "\n",
    "for cond in range(6):\n",
    "    cond_name = getConditionName(cond)\n",
    "    print(\"Mean covered distance of cursor for \" + cond_name + \": {}px\".format(mean_covered_distances_cursor[cond]))"
   ]
  },
  {
   "cell_type": "markdown",
   "metadata": {},
   "source": [
    "## Most notable observation"
   ]
  },
  {
   "cell_type": "markdown",
   "metadata": {},
   "source": [
    "WIP"
   ]
  },
  {
   "cell_type": "code",
   "execution_count": null,
   "metadata": {},
   "outputs": [],
   "source": []
  }
 ],
 "metadata": {
  "kernelspec": {
   "display_name": "Python 3",
   "language": "python",
   "name": "python3"
  },
  "language_info": {
   "codemirror_mode": {
    "name": "ipython",
    "version": 3
   },
   "file_extension": ".py",
   "mimetype": "text/x-python",
   "name": "python",
   "nbconvert_exporter": "python",
   "pygments_lexer": "ipython3",
   "version": "3.9.1+"
  }
 },
 "nbformat": 4,
 "nbformat_minor": 4
}

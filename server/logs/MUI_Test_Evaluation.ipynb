{
 "cells": [
  {
   "cell_type": "code",
   "execution_count": 1,
   "metadata": {
    "execution": {
     "iopub.execute_input": "2021-03-17T14:41:17.097966Z",
     "iopub.status.busy": "2021-03-17T14:41:17.097066Z",
     "iopub.status.idle": "2021-03-17T14:41:17.680082Z",
     "shell.execute_reply": "2021-03-17T14:41:17.680408Z"
    }
   },
   "outputs": [],
   "source": [
    "import csv\n",
    "%matplotlib inline\n",
    "from pylab import *\n",
    "rcParams['figure.figsize'] = (16,9)\n",
    "rcParams['font.size'] = 12\n",
    "import numpy as np\n",
    "import scipy as sp\n",
    "import os \n",
    "import glob\n",
    "import pandas as pd\n",
    "import seaborn as sns\n",
    "\n",
    "#pd.set_option(\"display.max_rows\", None, \"display.max_columns\", None)\n",
    "\n",
    "data_path = os.getcwd()\n",
    "data_extension = \"csv\"\n",
    "\n",
    "os.chdir(data_path)"
   ]
  },
  {
   "cell_type": "code",
   "execution_count": 2,
   "metadata": {
    "execution": {
     "iopub.execute_input": "2021-03-17T14:41:17.683713Z",
     "iopub.status.busy": "2021-03-17T14:41:17.683249Z",
     "iopub.status.idle": "2021-03-17T14:41:17.685228Z",
     "shell.execute_reply": "2021-03-17T14:41:17.685544Z"
    }
   },
   "outputs": [],
   "source": [
    "result = [file for file in glob.glob(\"/home/juergen/Desktop/logs_phase1/\" + '*.{}'.format(data_extension))]\n",
    "participants, hashes = result.pop(result.index('/home/juergen/Desktop/logs_phase1/pidList.csv')), result.pop(result.index('/home/juergen/Desktop/logs_phase1/finishedHashes.csv'))"
   ]
  },
  {
   "cell_type": "code",
   "execution_count": 3,
   "metadata": {
    "execution": {
     "iopub.execute_input": "2021-03-17T14:41:17.691214Z",
     "iopub.status.busy": "2021-03-17T14:41:17.690633Z",
     "iopub.status.idle": "2021-03-17T14:41:17.807701Z",
     "shell.execute_reply": "2021-03-17T14:41:17.807357Z"
    }
   },
   "outputs": [],
   "source": [
    "import csv\n",
    "\n",
    "# omit incomplete data sets\n",
    "\n",
    "result.sort()\n",
    "is_missing_header = False\n",
    "\n",
    "# omit due to missing runs\n",
    "to_omit = []\n",
    "to_omit_pids = []\n",
    "for f in result:\n",
    "    with open(f, \"r\") as file:\n",
    "        reader = csv.reader(file, delimiter=\",\")\n",
    "        rids = []\n",
    "\n",
    "        for i, row in enumerate(reader):\n",
    "            pid = -1\n",
    "            \n",
    "            if i == 0:\n",
    "                if row != ['timestampLog', 'pid', 'condition_id', 'run_id', 'timestampConditionStart', 'timestampCollision', 'timestampClick', 'mouseIsInsideElement', 'targetX', 'targetY', 'targetWidth', 'targetHeight', 'cursorX', 'cursorY']:\n",
    "                    is_missing_header = True\n",
    "            else:\n",
    "                rids.append(int(row[3]))\n",
    "                \n",
    "        rids = list(set(rids))\n",
    "                \n",
    "        target_sum = sum([i for i in range(1, 51)]) if 'cooldown' in f or 'warmup' in f else sum([i for i in range(1, 101)])\n",
    "                \n",
    "        if sum(rids) != target_sum:\n",
    "            to_omit.append(f)\n",
    "        elif is_missing_header:\n",
    "            pass\n",
    "            # reconstruct missing header\n",
    "    \n",
    "for f in to_omit:\n",
    "    root = f.split(\"-\")[0]\n",
    "    \n",
    "    to_omit_pids.append(root[-1])\n",
    "    pattern = root + \"-\"\n",
    "    \n",
    "    result = [elem for elem in result if pattern not in elem]    "
   ]
  },
  {
   "cell_type": "code",
   "execution_count": 4,
   "metadata": {
    "execution": {
     "iopub.execute_input": "2021-03-17T14:41:17.811358Z",
     "iopub.status.busy": "2021-03-17T14:41:17.810919Z",
     "iopub.status.idle": "2021-03-17T14:41:17.933265Z",
     "shell.execute_reply": "2021-03-17T14:41:17.932922Z"
    }
   },
   "outputs": [],
   "source": [
    "dff = [(pd.read_csv(f, delimiter = ','), f) for f in result]\n",
    "\n",
    "concats = {}\n",
    "\n",
    "for df in dff:\n",
    "    condition_id = list(df[0][\"condition_id\"])[0]\n",
    "\n",
    "    if not condition_id in concats:\n",
    "        concats[condition_id] = df[0]\n",
    "    else:\n",
    "        concats[condition_id] = pd.concat([concats[condition_id], df[0]])\n",
    "    \n",
    "        \n",
    "dff = concats.values()\n",
    "\n",
    "pids = list(concats[0].pid.unique())"
   ]
  },
  {
   "cell_type": "code",
   "execution_count": 5,
   "metadata": {
    "execution": {
     "iopub.execute_input": "2021-03-17T14:41:17.941848Z",
     "iopub.status.busy": "2021-03-17T14:41:17.941438Z",
     "iopub.status.idle": "2021-03-17T14:41:17.943288Z",
     "shell.execute_reply": "2021-03-17T14:41:17.942910Z"
    }
   },
   "outputs": [],
   "source": [
    "import math\n",
    "\n",
    "class Run:\n",
    "    def __init__(self, data):\n",
    "        self.data = data\n",
    "                        \n",
    "        self.condition = list(data[\"condition_id\"])[0]\n",
    "        \n",
    "        self.pid = list(data[\"pid\"])[-1]        \n",
    "        self.run_id = list(data[\"run_id\"])[-1]\n",
    "        self.run_starttime = list(data[\"timestampConditionStart\"])[0]\n",
    "        self.successful_click_time = list(data[\"timestampClick\"])[-1]\n",
    "        \n",
    "        self.run_duration = float(self.successful_click_time) - float(self.run_starttime)\n",
    "        self.errors = len(list(data[\"timestampClick\"])) - list(data[\"timestampClick\"]).count(\"oldval\") - 1\n",
    "              \n",
    "        ###########################\n",
    "        self.collisions = 0\n",
    "        initial_collision_ts = list(data[\"timestampCollision\"])[0]\n",
    "\n",
    "        for i in list(data[\"timestampCollision\"]):\n",
    "            if initial_collision_ts != i:\n",
    "                self.collisions += 1\n",
    "                initial_collision_ts = i        \n",
    "        \n",
    "        ##############################\n",
    "       \n",
    "        self.num_cursor_movements = 0\n",
    "        self.cursor_movement_length = 0\n",
    "        self.num_target_movements = 0\n",
    "        self.target_movement_length = 0\n",
    "        \n",
    "        initial_cursor_x = int(float(list(data[\"cursorX\"])[0]))\n",
    "        initial_cursor_y = int(float(list(data[\"cursorY\"])[0]))\n",
    "        initial_target_x = int(float(list(data[\"targetX\"])[0]))\n",
    "        initial_target_y = int(float(list(data[\"targetY\"])[0]))\n",
    "        \n",
    "        for i in range(0, len(list(data[\"cursorX\"]))):\n",
    "            x, y = int(float(list(data[\"cursorX\"])[i])), int(float(list(data[\"cursorY\"])[i]))\n",
    "            tx, ty = int(float(list(data[\"targetX\"])[i])), int(float(list(data[\"targetY\"])[i]))\n",
    "            \n",
    "            if x != initial_cursor_x or y != initial_cursor_y:\n",
    "                self.cursor_movement_length += self.vector_length(x - initial_cursor_x, y - initial_cursor_y)\n",
    "                self.num_cursor_movements += 1\n",
    "                initial_cursor_x = x\n",
    "                initial_cursor_y = y\n",
    "                \n",
    "            if tx != initial_target_x or ty != initial_target_y:\n",
    "                self.num_target_movements += 1\n",
    "                self.target_movement_length += self.vector_length(tx - initial_target_x, ty - initial_target_y)\n",
    "                initial_target_x = tx\n",
    "                initial_target_y = ty\n",
    "              \n",
    "    def __repr__(self):\n",
    "        return \"condition:{0}\\npid: {1}\\nrun_id: {2}\\ncollisions:{3}\\nerrors:{4}\\nduration:{5} ms\\ncursor movements:{6}\\ncursor movement length:{7}\\ntarget movements:{8}\\ntarget movement length:{9}\\n\\n\".format(\n",
    "            self.condition,\n",
    "            self.pid,\n",
    "            self.run_id,\n",
    "            self.collisions,\n",
    "            self.errors,\n",
    "            self.run_duration,\n",
    "            self.num_cursor_movements,\n",
    "            self.cursor_movement_length,\n",
    "            self.num_target_movements,\n",
    "            self.target_movement_length)\n",
    "    \n",
    "    def vector_length(self, u, v):\n",
    "        return math.sqrt(u * u + v * v)\n",
    "    "
   ]
  },
  {
   "cell_type": "code",
   "execution_count": 6,
   "metadata": {
    "execution": {
     "iopub.execute_input": "2021-03-17T14:41:17.946753Z",
     "iopub.status.busy": "2021-03-17T14:41:17.946328Z",
     "iopub.status.idle": "2021-03-17T14:41:20.877775Z",
     "shell.execute_reply": "2021-03-17T14:41:20.877365Z"
    }
   },
   "outputs": [],
   "source": [
    "conditions = []\n",
    "\n",
    "for df in dff:\n",
    "    conditions.append([])\n",
    "    \n",
    "    for pid in pids:\n",
    "        dfp = df[df[\"pid\"] == pid]\n",
    "        \n",
    "        for rid in range(1, max(df[\"run_id\"])):\n",
    "            dfpr = dfp[dfp[\"run_id\"] == rid]\n",
    "            conditions[-1].append(Run(dfpr))"
   ]
  },
  {
   "cell_type": "markdown",
   "metadata": {},
   "source": [
    "# Results"
   ]
  },
  {
   "cell_type": "markdown",
   "metadata": {},
   "source": [
    "## Demographics"
   ]
  },
  {
   "cell_type": "code",
   "execution_count": 7,
   "metadata": {
    "execution": {
     "iopub.execute_input": "2021-03-17T14:41:20.884948Z",
     "iopub.status.busy": "2021-03-17T14:41:20.882514Z",
     "iopub.status.idle": "2021-03-17T14:41:20.886718Z",
     "shell.execute_reply": "2021-03-17T14:41:20.887066Z"
    }
   },
   "outputs": [],
   "source": [
    "def range_mean_median_sd(label, data):\n",
    "    data = [i if i == i and i != '-' else 0 for i in data]\n",
    "    \n",
    "    min_data = min(data)\n",
    "    max_data = max(data)\n",
    "    mean_data = np.mean(data)\n",
    "    median_data = np.median(data)\n",
    "    sd_data = sp.stats.tstd(data)\n",
    "\n",
    "    print(\"{0} ranges from {1:.2f} to {2:.2f} with a mean of {3:.2f} (sd. {4:.2f}) and median of {5:.2f}\".format(label, min_data, max_data, mean_data, sd_data, median_data))\n",
    "\n",
    "def occurence_dictionary(data):    \n",
    "    ret = {}\n",
    "    \n",
    "    for i in list(data):    \n",
    "        if i != i or i == '-':\n",
    "            i = 'unpspecified'\n",
    "            \n",
    "        ret[i.lower().rstrip()] = ret.get(i.lower().rstrip(), 0) + 1\n",
    "        \n",
    "    return ret\n",
    "\n",
    "pdf = pd.read_csv(participants, delimiter = ',')\n",
    "pdf = pdf[pdf.hasFinished != 0]\n",
    "\n",
    "for pid in to_omit_pids:\n",
    "    pdf = pdf[pdf.ID != int(pid)]"
   ]
  },
  {
   "cell_type": "markdown",
   "metadata": {},
   "source": [
    "### Gender"
   ]
  },
  {
   "cell_type": "code",
   "execution_count": 8,
   "metadata": {
    "execution": {
     "iopub.execute_input": "2021-03-17T14:41:20.890732Z",
     "iopub.status.busy": "2021-03-17T14:41:20.890329Z",
     "iopub.status.idle": "2021-03-17T14:41:20.892345Z",
     "shell.execute_reply": "2021-03-17T14:41:20.892654Z"
    }
   },
   "outputs": [
    {
     "name": "stdout",
     "output_type": "stream",
     "text": [
      "n = 2\n",
      "2 male, 0 female, 0 diverse, 0 other\n"
     ]
    }
   ],
   "source": [
    "gender = list(pdf[\"Geschlecht\"])\n",
    "m, w, d = gender.count(\"Männlich\"), gender.count(\"Weiblich\"), gender.count(\"Divers\")\n",
    "o = len(gender) - (m + w + d)\n",
    "\n",
    "print(\"n = {0}\".format(len(gender)))\n",
    "print(\"{0} male, {1} female, {2} diverse, {3} other\".format(m, w, d, o))"
   ]
  },
  {
   "cell_type": "markdown",
   "metadata": {},
   "source": [
    "### Age"
   ]
  },
  {
   "cell_type": "code",
   "execution_count": 9,
   "metadata": {
    "execution": {
     "iopub.execute_input": "2021-03-17T14:41:20.895637Z",
     "iopub.status.busy": "2021-03-17T14:41:20.895255Z",
     "iopub.status.idle": "2021-03-17T14:41:20.896999Z",
     "shell.execute_reply": "2021-03-17T14:41:20.897276Z"
    }
   },
   "outputs": [
    {
     "name": "stdout",
     "output_type": "stream",
     "text": [
      "Age ranges from 20.00 to 21.00 with a mean of 20.50 (sd. 0.71) and median of 20.50\n"
     ]
    }
   ],
   "source": [
    "ages = list(pdf[\"Alter\"])\n",
    "range_mean_median_sd(\"Age\", ages)"
   ]
  },
  {
   "cell_type": "markdown",
   "metadata": {},
   "source": [
    "### Occupation"
   ]
  },
  {
   "cell_type": "code",
   "execution_count": 10,
   "metadata": {
    "execution": {
     "iopub.execute_input": "2021-03-17T14:41:20.900125Z",
     "iopub.status.busy": "2021-03-17T14:41:20.899678Z",
     "iopub.status.idle": "2021-03-17T14:41:20.901624Z",
     "shell.execute_reply": "2021-03-17T14:41:20.901947Z"
    }
   },
   "outputs": [
    {
     "name": "stdout",
     "output_type": "stream",
     "text": [
      "{'student': 2}\n"
     ]
    }
   ],
   "source": [
    "occupations = occurence_dictionary(pdf[\"Beruf\"])\n",
    "print(occupations)"
   ]
  },
  {
   "cell_type": "markdown",
   "metadata": {},
   "source": [
    "## Duration"
   ]
  },
  {
   "cell_type": "code",
   "execution_count": 11,
   "metadata": {
    "execution": {
     "iopub.execute_input": "2021-03-17T14:41:20.908173Z",
     "iopub.status.busy": "2021-03-17T14:41:20.907598Z",
     "iopub.status.idle": "2021-03-17T14:41:21.111772Z",
     "shell.execute_reply": "2021-03-17T14:41:21.111382Z"
    }
   },
   "outputs": [
    {
     "name": "stdout",
     "output_type": "stream",
     "text": [
      "Static UI ranges from 364.66 to 1068.33 with a mean of 575.84 (sd. 132.46) and median of 534.10\n",
      "\n",
      "Factor 0.25 MUI ranges from 390.76 to 1558.21 with a mean of 578.76 (sd. 158.76) and median of 522.36\n",
      "\n",
      "Factor 0.5 MUI ranges from 376.80 to 1382.17 with a mean of 571.58 (sd. 153.85) and median of 516.09\n",
      "\n",
      "Factor 0.75 MUI ranges from 367.70 to 1321.93 with a mean of 557.55 (sd. 151.68) and median of 495.98\n",
      "\n",
      "Factor 1.0 MUI ranges from 372.59 to 1245.00 with a mean of 567.98 (sd. 152.17) and median of 507.42\n",
      "\n",
      "Static UI with 1.5x CD Gain ranges from 380.25 to 2095.34 with a mean of 623.60 (sd. 219.70) and median of 537.48\n",
      "\n",
      "Cooldown ranges from 372.16 to 1231.71 with a mean of 588.79 (sd. 166.38) and median of 514.87\n",
      "\n",
      "Warmup ranges from 411.53 to 1755.50 with a mean of 588.87 (sd. 180.51) and median of 528.24\n",
      "\n"
     ]
    },
    {
     "data": {
      "text/plain": [
       "([<matplotlib.axis.XTick at 0x7fbbdc4e6b50>,\n",
       "  <matplotlib.axis.XTick at 0x7fbbdc4e6b20>,\n",
       "  <matplotlib.axis.XTick at 0x7fbbdc493eb0>,\n",
       "  <matplotlib.axis.XTick at 0x7fbbdc48d460>,\n",
       "  <matplotlib.axis.XTick at 0x7fbbdc48d970>,\n",
       "  <matplotlib.axis.XTick at 0x7fbbdc48de80>],\n",
       " [Text(1, 0, 'Static UI'),\n",
       "  Text(2, 0, 'Factor 0.25 MUI'),\n",
       "  Text(3, 0, 'Factor 0.5 MUI'),\n",
       "  Text(4, 0, 'Factor 0.75 MUI'),\n",
       "  Text(5, 0, 'Factor 1.0 MUI'),\n",
       "  Text(6, 0, 'Static UI with 1.5x CD Gain')])"
      ]
     },
     "execution_count": 1,
     "metadata": {},
     "output_type": "execute_result"
    },
    {
     "data": {
      "image/png": "[encoded data removed]",
      "text/plain": [
       "<Figure size 1152x648 with 1 Axes>"
      ]
     },
     "metadata": {
      "needs_background": "light"
     },
     "output_type": "display_data"
    }
   ],
   "source": [
    "durations = {}\n",
    "\n",
    "for condition in conditions:\n",
    "    durations[condition[0].condition] = [run.run_duration for run in condition]\n",
    "        \n",
    "ticks = []\n",
    "data = []\n",
    "\n",
    "for condition, duration_measurements in durations.items(): \n",
    "    cond_name = \"Warmup\" if condition == -1 else \"Static UI\" if condition == 0 else \"Factor 0.25 MUI\" if condition == 1 else \"Factor 0.5 MUI\" if condition == 2 else \"Factor 0.75 MUI\" if condition == 3 else \"Factor 1.0 MUI\" if condition == 4  else \"Static UI with 1.5x CD Gain\" if condition == 5 else \"Cooldown\"\n",
    "    \n",
    "    range_mean_median_sd (cond_name, duration_measurements)\n",
    "    print()\n",
    "    \n",
    "    if cond_name != \"Warmup\" and cond_name != \"Cooldown\":\n",
    "        data.append(duration_measurements)\n",
    "        ticks.append(cond_name)\n",
    "\n",
    "fig = plt.figure()\n",
    "fig.suptitle('TCT Comparison between static UI and MUI variants', fontsize=14, fontweight='bold')\n",
    "\n",
    "ax = fig.add_subplot(111)\n",
    "ax.boxplot(data)\n",
    "ax.set_xlabel('UI variants')\n",
    "ax.set_ylabel('Task Completion Time in ms')\n",
    "ax.set_ylim(bottom=0)\n",
    "xticks([i + 1 for i in range(len(ticks))], ticks)\n"
   ]
  },
  {
   "cell_type": "code",
   "execution_count": 12,
   "metadata": {
    "execution": {
     "iopub.execute_input": "2021-03-17T14:41:21.118099Z",
     "iopub.status.busy": "2021-03-17T14:41:21.117381Z",
     "iopub.status.idle": "2021-03-17T14:41:21.128876Z",
     "shell.execute_reply": "2021-03-17T14:41:21.128546Z"
    },
    "scrolled": true
   },
   "outputs": [
    {
     "name": "stdout",
     "output_type": "stream",
     "text": [
      "Static UI vs Factor 0.25 MUI -> p = 0.8443031634534002\n",
      "Static UI vs Factor 0.5 MUI -> p = 0.7640442385973302\n",
      "Static UI vs Factor 0.75 MUI -> p = 0.19153915319277923\n",
      "Static UI vs Factor 1.0 MUI -> p = 0.5701307945160234\n",
      "Static UI vs Static UI with 1.5x CD Gain -> p = 0.00878348092576342\n",
      "\n",
      "Factor 0.25 MUI vs Static UI -> p = 0.8443031634534002\n",
      "Factor 0.25 MUI vs Factor 0.5 MUI -> p = 0.6292145455878582\n",
      "Factor 0.25 MUI vs Factor 0.75 MUI -> p = 0.17496572607961874\n",
      "Factor 0.25 MUI vs Factor 1.0 MUI -> p = 0.4902363124472945\n",
      "Factor 0.25 MUI vs Static UI with 1.5x CD Gain -> p = 0.018797916275356232\n",
      "\n",
      "Factor 0.5 MUI vs Static UI -> p = 0.7640442385973302\n",
      "Factor 0.5 MUI vs Factor 0.25 MUI -> p = 0.6292145455878582\n",
      "Factor 0.5 MUI vs Factor 0.75 MUI -> p = 0.35784349143781014\n",
      "Factor 0.5 MUI vs Factor 1.0 MUI -> p = 0.8153828766023699\n",
      "Factor 0.5 MUI vs Static UI with 1.5x CD Gain -> p = 0.0027503283874022143\n",
      "\n",
      "Factor 0.75 MUI vs Static UI -> p = 0.19153915319277923\n",
      "Factor 0.75 MUI vs Factor 0.25 MUI -> p = 0.17496572607961874\n",
      "Factor 0.75 MUI vs Factor 0.5 MUI -> p = 0.35784349143781014\n",
      "Factor 0.75 MUI vs Factor 1.0 MUI -> p = 0.48079266953884237\n",
      "Factor 0.75 MUI vs Static UI with 1.5x CD Gain -> p = 0.0005124133802904396\n",
      "\n",
      "Factor 1.0 MUI vs Static UI -> p = 0.5701307945160234\n",
      "Factor 1.0 MUI vs Factor 0.25 MUI -> p = 0.4902363124472945\n",
      "Factor 1.0 MUI vs Factor 0.5 MUI -> p = 0.8153828766023699\n",
      "Factor 1.0 MUI vs Factor 0.75 MUI -> p = 0.48079266953884237\n",
      "Factor 1.0 MUI vs Static UI with 1.5x CD Gain -> p = 0.004314246139220733\n",
      "\n",
      "Static UI with 1.5x CD Gain vs Static UI -> p = 0.00878348092576342\n",
      "Static UI with 1.5x CD Gain vs Factor 0.25 MUI -> p = 0.018797916275356232\n",
      "Static UI with 1.5x CD Gain vs Factor 0.5 MUI -> p = 0.0027503283874022143\n",
      "Static UI with 1.5x CD Gain vs Factor 0.75 MUI -> p = 0.0005124133802904396\n",
      "Static UI with 1.5x CD Gain vs Factor 1.0 MUI -> p = 0.004314246139220733\n",
      "\n"
     ]
    }
   ],
   "source": [
    "from scipy.stats import ttest_rel as ttest\n",
    "\n",
    "static_durations = durations[0]\n",
    "factor025_durations = durations[1]\n",
    "factor05_durations = durations[2]\n",
    "factor075_durations = durations[3]\n",
    "factor1_durations = durations[4]\n",
    "static15cdg_durations = durations[5]\n",
    "\n",
    "def getConditionName(cond):\n",
    "    cond_name = \"Static UI\" if cond == 0 else \"Factor 0.25 MUI\" if cond == 1 else \"Factor 0.5 MUI\" if cond == 2 else \"Factor 0.75 MUI\" if cond == 3 else \"Factor 1.0 MUI\" if cond == 4  else \"Static UI with 1.5x CD Gain\"\n",
    "    return cond_name\n",
    "    \n",
    "for cond in range(6):\n",
    "    cond_name = getConditionName(cond)\n",
    "    for condToCompare in range(6):\n",
    "        if cond != condToCompare:\n",
    "            condToCompare_name = getConditionName(condToCompare)\n",
    "            print(cond_name + \" vs \" + condToCompare_name + \" -> p = {}\".format(ttest(durations[cond], durations[condToCompare])[1]))\n",
    "    print()"
   ]
  },
  {
   "cell_type": "markdown",
   "metadata": {},
   "source": [
    "### Warmup vs. Cooldown"
   ]
  },
  {
   "cell_type": "code",
   "execution_count": 13,
   "metadata": {
    "execution": {
     "iopub.execute_input": "2021-03-17T14:41:21.134362Z",
     "iopub.status.busy": "2021-03-17T14:41:21.133966Z",
     "iopub.status.idle": "2021-03-17T14:41:21.259313Z",
     "shell.execute_reply": "2021-03-17T14:41:21.259620Z"
    }
   },
   "outputs": [
    {
     "name": "stdout",
     "output_type": "stream",
     "text": [
      "Static UI ranges from 364.66 to 1068.33 with a mean of 575.84 (sd. 132.46) and median of 534.10\n",
      "\n",
      "Factor 0.25 MUI ranges from 390.76 to 1558.21 with a mean of 578.76 (sd. 158.76) and median of 522.36\n",
      "\n",
      "Factor 0.5 MUI ranges from 376.80 to 1382.17 with a mean of 571.58 (sd. 153.85) and median of 516.09\n",
      "\n",
      "Factor 0.75 MUI ranges from 367.70 to 1321.93 with a mean of 557.55 (sd. 151.68) and median of 495.98\n",
      "\n",
      "Factor 1.0 MUI ranges from 372.59 to 1245.00 with a mean of 567.98 (sd. 152.17) and median of 507.42\n",
      "\n",
      "Static UI with 1.5x CD Gain ranges from 380.25 to 2095.34 with a mean of 623.60 (sd. 219.70) and median of 537.48\n",
      "\n",
      "Cooldown ranges from 372.16 to 1231.71 with a mean of 588.79 (sd. 166.38) and median of 514.87\n",
      "\n",
      "Warmup ranges from 411.53 to 1755.50 with a mean of 588.87 (sd. 180.51) and median of 528.24\n",
      "\n"
     ]
    },
    {
     "data": {
      "text/plain": [
       "([<matplotlib.axis.XTick at 0x7fbbdc3e2fa0>,\n",
       "  <matplotlib.axis.XTick at 0x7fbbdc3e2f70>],\n",
       " [Text(1, 0, 'Cooldown'), Text(2, 0, 'Warmup')])"
      ]
     },
     "execution_count": 1,
     "metadata": {},
     "output_type": "execute_result"
    },
    {
     "data": {
      "image/png": "[encoded data removed]",
      "text/plain": [
       "<Figure size 1152x648 with 1 Axes>"
      ]
     },
     "metadata": {
      "needs_background": "light"
     },
     "output_type": "display_data"
    }
   ],
   "source": [
    "durations = {}\n",
    "\n",
    "for condition in conditions:\n",
    "    durations[condition[0].condition] = [run.run_duration for run in condition]\n",
    "        \n",
    "ticks = []\n",
    "data = []\n",
    "\n",
    "for condition, duration_measurements in durations.items(): \n",
    "    cond_name = \"Warmup\" if condition == -1 else \"Static UI\" if condition == 0 else \"Factor 0.25 MUI\" if condition == 1 else \"Factor 0.5 MUI\" if condition == 2 else \"Factor 0.75 MUI\" if condition == 3 else \"Factor 1.0 MUI\" if condition == 4  else \"Static UI with 1.5x CD Gain\" if condition == 5 else \"Cooldown\"\n",
    "    \n",
    "    range_mean_median_sd (cond_name, duration_measurements)\n",
    "    print()\n",
    "    \n",
    "    if cond_name == \"Warmup\" or cond_name == \"Cooldown\":\n",
    "        data.append(duration_measurements)\n",
    "        ticks.append(cond_name)\n",
    "\n",
    "fig = plt.figure()\n",
    "fig.suptitle('TCT Comparison between Warmup and Cooldown Phases', fontsize=14, fontweight='bold')\n",
    "\n",
    "ax = fig.add_subplot(111)\n",
    "ax.boxplot(data)\n",
    "ax.set_xlabel('UI variants')\n",
    "ax.set_ylabel('Task Completion Time in ms')\n",
    "ax.set_ylim(bottom=0)\n",
    "xticks([i + 1 for i in range(len(ticks))], ticks)"
   ]
  },
  {
   "cell_type": "code",
   "execution_count": 14,
   "metadata": {
    "execution": {
     "iopub.execute_input": "2021-03-17T14:41:21.264268Z",
     "iopub.status.busy": "2021-03-17T14:41:21.263846Z",
     "iopub.status.idle": "2021-03-17T14:41:21.266174Z",
     "shell.execute_reply": "2021-03-17T14:41:21.265846Z"
    }
   },
   "outputs": [
    {
     "name": "stdout",
     "output_type": "stream",
     "text": [
      "Warmup vs Cooldown -> p = 0.99743\n"
     ]
    }
   ],
   "source": [
    "from scipy.stats import ttest_rel as ttest\n",
    "\n",
    "warmup = []\n",
    "cooldown = []\n",
    "for condition, duration_measurements in durations.items():         \n",
    "    if condition == -1:\n",
    "        warmup = duration_measurements\n",
    "        \n",
    "    if condition == 6:\n",
    "        cooldown = duration_measurements\n",
    "        \n",
    "p = ttest(warmup, cooldown)[1]\n",
    "\n",
    "print(\"Warmup\" + \" vs \" + \"Cooldown\" + \" -> p = {:.5f}\".format(p))"
   ]
  },
  {
   "cell_type": "markdown",
   "metadata": {},
   "source": [
    "## Errors"
   ]
  },
  {
   "cell_type": "code",
   "execution_count": 15,
   "metadata": {
    "execution": {
     "iopub.execute_input": "2021-03-17T14:41:21.271552Z",
     "iopub.status.busy": "2021-03-17T14:41:21.271059Z",
     "iopub.status.idle": "2021-03-17T14:41:21.274375Z",
     "shell.execute_reply": "2021-03-17T14:41:21.274044Z"
    }
   },
   "outputs": [
    {
     "name": "stdout",
     "output_type": "stream",
     "text": [
      "Errors for Static UI: 32\n",
      "Static UI vs Factor 0.25 MUI -> -5.88%\n",
      "Static UI vs Factor 0.5 MUI -> -8.57%\n",
      "Static UI vs Factor 0.75 MUI -> -23.81%\n",
      "Static UI vs Factor 1.0 MUI -> -20.00%\n",
      "Static UI vs Static UI with 1.5x CD Gain -> -45.76%\n",
      "\n",
      "Errors for Factor 0.25 MUI: 34\n",
      "Factor 0.25 MUI vs Static UI -> 6.25%\n",
      "Factor 0.25 MUI vs Factor 0.5 MUI -> -2.86%\n",
      "Factor 0.25 MUI vs Factor 0.75 MUI -> -19.05%\n",
      "Factor 0.25 MUI vs Factor 1.0 MUI -> -15.00%\n",
      "Factor 0.25 MUI vs Static UI with 1.5x CD Gain -> -42.37%\n",
      "\n",
      "Errors for Factor 0.5 MUI: 35\n",
      "Factor 0.5 MUI vs Static UI -> 9.38%\n",
      "Factor 0.5 MUI vs Factor 0.25 MUI -> 2.94%\n",
      "Factor 0.5 MUI vs Factor 0.75 MUI -> -16.67%\n",
      "Factor 0.5 MUI vs Factor 1.0 MUI -> -12.50%\n",
      "Factor 0.5 MUI vs Static UI with 1.5x CD Gain -> -40.68%\n",
      "\n",
      "Errors for Factor 0.75 MUI: 42\n",
      "Factor 0.75 MUI vs Static UI -> 31.25%\n",
      "Factor 0.75 MUI vs Factor 0.25 MUI -> 23.53%\n",
      "Factor 0.75 MUI vs Factor 0.5 MUI -> 20.00%\n",
      "Factor 0.75 MUI vs Factor 1.0 MUI -> 5.00%\n",
      "Factor 0.75 MUI vs Static UI with 1.5x CD Gain -> -28.81%\n",
      "\n",
      "Errors for Factor 1.0 MUI: 40\n",
      "Factor 1.0 MUI vs Static UI -> 25.00%\n",
      "Factor 1.0 MUI vs Factor 0.25 MUI -> 17.65%\n",
      "Factor 1.0 MUI vs Factor 0.5 MUI -> 14.29%\n",
      "Factor 1.0 MUI vs Factor 0.75 MUI -> -4.76%\n",
      "Factor 1.0 MUI vs Static UI with 1.5x CD Gain -> -32.20%\n",
      "\n",
      "Errors for Static UI with 1.5x CD Gain: 59\n",
      "Static UI with 1.5x CD Gain vs Static UI -> 84.38%\n",
      "Static UI with 1.5x CD Gain vs Factor 0.25 MUI -> 73.53%\n",
      "Static UI with 1.5x CD Gain vs Factor 0.5 MUI -> 68.57%\n",
      "Static UI with 1.5x CD Gain vs Factor 0.75 MUI -> 40.48%\n",
      "Static UI with 1.5x CD Gain vs Factor 1.0 MUI -> 47.50%\n",
      "\n"
     ]
    }
   ],
   "source": [
    "def increase_in_percent(counter, denominator):\n",
    "    return (counter / (denominator / 100)) - 100\n",
    "\n",
    "errors = {}\n",
    "\n",
    "for condition in conditions:\n",
    "    errors[condition[0].condition] = sum([run.errors for run in condition])\n",
    "\n",
    "for cond in range(6):\n",
    "    cond_name = getConditionName(cond)\n",
    "    print(\"Errors for \" + cond_name + \": {}\".format(errors[cond]))\n",
    "    for condToCompare in range(6):\n",
    "        if cond != condToCompare:\n",
    "            condToCompare_name = getConditionName(condToCompare)\n",
    "            print(cond_name + \" vs \" + condToCompare_name + \" -> {:.2f}%\".format(increase_in_percent(errors[cond], errors[condToCompare])))\n",
    "    print(\"\")"
   ]
  },
  {
   "cell_type": "markdown",
   "metadata": {},
   "source": [
    "## Covered Distances"
   ]
  },
  {
   "cell_type": "code",
   "execution_count": 16,
   "metadata": {
    "execution": {
     "iopub.execute_input": "2021-03-17T14:41:21.278060Z",
     "iopub.status.busy": "2021-03-17T14:41:21.277622Z",
     "iopub.status.idle": "2021-03-17T14:41:21.279387Z",
     "shell.execute_reply": "2021-03-17T14:41:21.279006Z"
    }
   },
   "outputs": [],
   "source": [
    "# covered_distance\n",
    "mean_covered_distances_cursor = {}\n",
    "\n",
    "for condition in conditions:\n",
    "    mean_covered_distances_cursor[condition[0].condition] = sum([run.cursor_movement_length for run in condition]) / len([run.cursor_movement_length for run in condition])"
   ]
  },
  {
   "cell_type": "code",
   "execution_count": 17,
   "metadata": {
    "execution": {
     "iopub.execute_input": "2021-03-17T14:41:21.283257Z",
     "iopub.status.busy": "2021-03-17T14:41:21.282689Z",
     "iopub.status.idle": "2021-03-17T14:41:21.285291Z",
     "shell.execute_reply": "2021-03-17T14:41:21.284935Z"
    }
   },
   "outputs": [
    {
     "name": "stdout",
     "output_type": "stream",
     "text": [
      "Mean covered distance of cursor for Static UI: 392.3945854428766px\n",
      "Mean covered distance of cursor for Factor 0.25 MUI: 370.2315172964634px\n",
      "Mean covered distance of cursor for Factor 0.5 MUI: 274.00532128149086px\n",
      "Mean covered distance of cursor for Factor 0.75 MUI: 315.9883902056846px\n",
      "Mean covered distance of cursor for Factor 1.0 MUI: 254.34109454330763px\n",
      "Mean covered distance of cursor for Static UI with 1.5x CD Gain: 413.6839765256355px\n"
     ]
    }
   ],
   "source": [
    "static_mean_covered_distance = mean_covered_distances_cursor[0]\n",
    "factor05_mean_covered_distance = mean_covered_distances_cursor[1]\n",
    "factor1_mean_covered_distance = mean_covered_distances_cursor[2]\n",
    "static15cdg_mean_covered_distance = mean_covered_distances_cursor[3]\n",
    "\n",
    "\n",
    "for cond in range(6):\n",
    "    cond_name = getConditionName(cond)\n",
    "    print(\"Mean covered distance of cursor for \" + cond_name + \": {}px\".format(mean_covered_distances_cursor[cond]))"
   ]
  },
  {
   "cell_type": "markdown",
   "metadata": {},
   "source": [
    "## Most notable observation"
   ]
  },
  {
   "cell_type": "markdown",
   "metadata": {},
   "source": [
    "WIP"
   ]
  },
  {
   "cell_type": "code",
   "execution_count": null,
   "metadata": {},
   "outputs": [],
   "source": []
  }
 ],
 "metadata": {
  "kernelspec": {
   "display_name": "Python 3",
   "language": "python",
   "name": "python3"
  },
  "language_info": {
   "codemirror_mode": {
    "name": "ipython",
    "version": 3
   },
   "file_extension": ".py",
   "mimetype": "text/x-python",
   "name": "python",
   "nbconvert_exporter": "python",
   "pygments_lexer": "ipython3",
   "version": "3.9.1+"
  }
 },
 "nbformat": 4,
 "nbformat_minor": 4
}

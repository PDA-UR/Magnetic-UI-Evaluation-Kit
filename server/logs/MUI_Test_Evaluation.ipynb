{
 "cells": [
  {
   "cell_type": "code",
   "execution_count": 1,
   "metadata": {
    "execution": {
     "iopub.execute_input": "2021-03-04T21:53:07.742564Z",
     "iopub.status.busy": "2021-03-04T21:53:07.741605Z",
     "iopub.status.idle": "2021-03-04T21:53:09.065341Z",
     "shell.execute_reply": "2021-03-04T21:53:09.065815Z"
    }
   },
   "outputs": [],
   "source": [
    "import csv\n",
    "%matplotlib inline\n",
    "from pylab import *\n",
    "rcParams['figure.figsize'] = (16,9)\n",
    "rcParams['font.size'] = 12\n",
    "import numpy as np\n",
    "import scipy as sp\n",
    "import os \n",
    "import glob\n",
    "import pandas as pd\n",
    "import seaborn as sns\n",
    "\n",
    "#pd.set_option(\"display.max_rows\", None, \"display.max_columns\", None)\n",
    "\n",
    "data_path = os.getcwd()\n",
    "data_extension = \"csv\"\n",
    "\n",
    "os.chdir(data_path)"
   ]
  },
  {
   "cell_type": "code",
   "execution_count": 2,
   "metadata": {
    "execution": {
     "iopub.execute_input": "2021-03-04T21:53:09.070080Z",
     "iopub.status.busy": "2021-03-04T21:53:09.069328Z",
     "iopub.status.idle": "2021-03-04T21:53:09.073212Z",
     "shell.execute_reply": "2021-03-04T21:53:09.073674Z"
    }
   },
   "outputs": [
    {
     "name": "stdout",
     "output_type": "stream",
     "text": [
      "['./finishedLogs/5-5-f.csv', './finishedLogs/5-3-f.csv', './finishedLogs/5-1-f.csv', './finishedLogs/5-4-f.csv', './finishedLogs/5-0-f.csv', './finishedLogs/5-2-f.csv']\n"
     ]
    }
   ],
   "source": [
    "result = glob.glob(\"./finishedLogs/\" + '*.{}'.format(data_extension))\n",
    "\n",
    "print(result)"
   ]
  },
  {
   "cell_type": "code",
   "execution_count": 3,
   "metadata": {
    "execution": {
     "iopub.execute_input": "2021-03-04T21:53:09.079409Z",
     "iopub.status.busy": "2021-03-04T21:53:09.078673Z",
     "iopub.status.idle": "2021-03-04T21:53:09.137750Z",
     "shell.execute_reply": "2021-03-04T21:53:09.138298Z"
    }
   },
   "outputs": [],
   "source": [
    "dff = [pd.read_csv(f, delimiter = ',') for f in result]\n",
    "\n",
    "concats = {}\n",
    "\n",
    "for df in dff:\n",
    "    condition_id = list(df[\"condition_id\"])[0]\n",
    "    \n",
    "    if not condition_id in concats:\n",
    "        concats[condition_id] = df\n",
    "    else:\n",
    "        concats[condition_id] = pd.concat([concats[condition_id], df])\n",
    "        \n",
    "dff = concats.values()\n",
    "\n",
    "pids = list(concats[0].pid.unique())"
   ]
  },
  {
   "cell_type": "code",
   "execution_count": 4,
   "metadata": {
    "execution": {
     "iopub.execute_input": "2021-03-04T21:53:09.152919Z",
     "iopub.status.busy": "2021-03-04T21:53:09.152115Z",
     "iopub.status.idle": "2021-03-04T21:53:09.154049Z",
     "shell.execute_reply": "2021-03-04T21:53:09.154526Z"
    }
   },
   "outputs": [],
   "source": [
    "import math\n",
    "\n",
    "class Run:\n",
    "    def __init__(self, data):\n",
    "        self.data = data\n",
    "                \n",
    "        self.condition = list(data[\"condition_id\"])[0]\n",
    "        \n",
    "        self.pid = list(data[\"pid\"])[-1]        \n",
    "        self.run_id = list(data[\"run_id\"])[-1]\n",
    "        self.run_starttime = list(data[\"timestampConditionStart\"])[-1]\n",
    "        \n",
    "        self.successful_click_time = list(data[\"timestampClick\"])[0]\n",
    "        \n",
    "        self.errors = -1\n",
    "    \n",
    "        for i in list(data[\"timestampClick\"]):\n",
    "            if self.successful_click_time != i:\n",
    "                self.errors += 1\n",
    "                self.successful_click_time = i\n",
    "                \n",
    "        self.run_duration = self.successful_click_time - self.run_starttime\n",
    "        \n",
    "        ###########################\n",
    "        self.collisions = 0\n",
    "        initial_collision_ts = list(data[\"timestampCollision\"])[0]\n",
    "\n",
    "        for i in list(data[\"timestampCollision\"]):\n",
    "            if initial_collision_ts != i:\n",
    "                self.collisions += 1\n",
    "                initial_collision_ts = i\n",
    "                \n",
    "        self.run_duration = self.successful_click_time - self.run_starttime\n",
    "        \n",
    "        \n",
    "        ##############################\n",
    "       \n",
    "        self.num_cursor_movements = 0\n",
    "        self.cursor_movement_length = 0\n",
    "        self.num_target_movements = 0\n",
    "        self.target_movement_length = 0\n",
    "        \n",
    "        initial_cursor_x = int(float(list(data[\"cursorX\"])[0]))\n",
    "        initial_cursor_y = int(float(list(data[\"cursorY\"])[0]))\n",
    "        initial_target_x = int(float(list(data[\"targetX\"])[0]))\n",
    "        initial_target_y = int(float(list(data[\"targetY\"])[0]))\n",
    "        \n",
    "        for i in range(0, len(list(data[\"cursorX\"]))):\n",
    "            x, y = int(float(list(data[\"cursorX\"])[i])), int(float(list(data[\"cursorY\"])[i]))\n",
    "            tx, ty = int(float(list(data[\"targetX\"])[i])), int(float(list(data[\"targetY\"])[i]))\n",
    "            \n",
    "            if x != initial_cursor_x or y != initial_cursor_y:\n",
    "                self.cursor_movement_length += self.vector_length(x - initial_cursor_x, y - initial_cursor_y)\n",
    "                self.num_cursor_movements += 1\n",
    "                initial_cursor_x = x\n",
    "                initial_cursor_y = y\n",
    "                \n",
    "            if tx != initial_target_x or ty != initial_target_y:\n",
    "                self.num_target_movements += 1\n",
    "                self.target_movement_length += self.vector_length(tx - initial_target_x, ty - initial_target_y)\n",
    "                initial_target_x = tx\n",
    "                initial_target_y = ty\n",
    "              \n",
    "    def __repr__(self):\n",
    "        return \"condition:{0}\\npid: {1}\\nrun_id: {2}\\ncollisions:{3}\\nerrors:{4}\\nduration:{5} ms\\ncursor movements:{6}\\ncursor movement length:{7}\\ntarget movements:{8}\\ntarget movement length:{9}\\n\\n\".format(\n",
    "            self.condition,\n",
    "            self.pid,\n",
    "            self.run_id,\n",
    "            self.collisions,\n",
    "            self.errors,\n",
    "            self.run_duration,\n",
    "            self.num_cursor_movements,\n",
    "            self.cursor_movement_length,\n",
    "            self.num_target_movements,\n",
    "            self.target_movement_length)\n",
    "    \n",
    "    def vector_length(self, u, v):\n",
    "        return math.sqrt(u * u + v * v)\n",
    "    "
   ]
  },
  {
   "cell_type": "code",
   "execution_count": 5,
   "metadata": {
    "execution": {
     "iopub.execute_input": "2021-03-04T21:53:09.159498Z",
     "iopub.status.busy": "2021-03-04T21:53:09.158860Z",
     "iopub.status.idle": "2021-03-04T21:53:10.399602Z",
     "shell.execute_reply": "2021-03-04T21:53:10.400096Z"
    }
   },
   "outputs": [],
   "source": [
    "conditions = []\n",
    "\n",
    "for df in dff:\n",
    "    conditions.append([])\n",
    "    \n",
    "    for pid in pids:\n",
    "        dfp = df[df[\"pid\"] == pid]\n",
    "        \n",
    "        for rid in range(1, max(df[\"run_id\"])):\n",
    "            dfpr = dfp[dfp[\"run_id\"] == rid]\n",
    "            \n",
    "            conditions[-1].append(Run(dfpr))"
   ]
  },
  {
   "cell_type": "markdown",
   "metadata": {},
   "source": [
    "# Results"
   ]
  },
  {
   "cell_type": "markdown",
   "metadata": {},
   "source": [
    "## Duration"
   ]
  },
  {
   "cell_type": "code",
   "execution_count": 6,
   "metadata": {
    "execution": {
     "iopub.execute_input": "2021-03-04T21:53:10.407935Z",
     "iopub.status.busy": "2021-03-04T21:53:10.407242Z",
     "iopub.status.idle": "2021-03-04T21:53:10.812979Z",
     "shell.execute_reply": "2021-03-04T21:53:10.813427Z"
    }
   },
   "outputs": [
    {
     "name": "stdout",
     "output_type": "stream",
     "text": [
      "condition: Static UI with 1.5x CD Gain has mean duration of 781.9387755102041 ms\n",
      "condition: Static UI with 1.5x CD Gain has median duration of 707.0 ms\n",
      "\n",
      "condition: Factor 0.75 MUI has mean duration of 731.7142857142857 ms\n",
      "condition: Factor 0.75 MUI has median duration of 665.5 ms\n",
      "\n",
      "condition: Factor 0.25 MUI has mean duration of 760.8163265306123 ms\n",
      "condition: Factor 0.25 MUI has median duration of 701.5 ms\n",
      "\n",
      "condition: Factor 0.1 MUI has mean duration of 732.3877551020408 ms\n",
      "condition: Factor 0.1 MUI has median duration of 657.0 ms\n",
      "\n",
      "condition: Static UI has mean duration of 788.1428571428571 ms\n",
      "condition: Static UI has median duration of 743.5 ms\n",
      "\n",
      "condition: Factor 0.5 MUI has mean duration of 758.9795918367347 ms\n",
      "condition: Factor 0.5 MUI has median duration of 686.5 ms\n",
      "\n"
     ]
    },
    {
     "data": {
      "text/plain": [
       "([<matplotlib.axis.XTick at 0x7f9a88776350>,\n",
       "  <matplotlib.axis.XTick at 0x7f9a86678050>,\n",
       "  <matplotlib.axis.XTick at 0x7f9a8875b7d0>,\n",
       "  <matplotlib.axis.XTick at 0x7f9a88810b10>,\n",
       "  <matplotlib.axis.XTick at 0x7f9a88810c50>,\n",
       "  <matplotlib.axis.XTick at 0x7f9a88819610>],\n",
       " <a list of 6 Text xticklabel objects>)"
      ]
     },
     "execution_count": 1,
     "metadata": {},
     "output_type": "execute_result"
    },
    {
     "data": {
      "image/png": "[encoded data removed]",
      "text/plain": [
       "<Figure size 1152x648 with 1 Axes>"
      ]
     },
     "metadata": {
      "needs_background": "light"
     },
     "output_type": "display_data"
    }
   ],
   "source": [
    "durations = {}\n",
    "\n",
    "for condition in conditions:\n",
    "    durations[condition[0].condition] = [run.run_duration for run in condition]\n",
    "        \n",
    "ticks = []\n",
    "data = []\n",
    "\n",
    "for condition, duration_measurements in durations.items(): \n",
    "    cond_name = \"Static UI\" if condition == 0 else \"Factor 0.25 MUI\" if condition == 1 else \"Factor 0.5 MUI\" if condition == 2 else \"Factor 0.75 MUI\" if condition == 3 else \"Factor 0.1 MUI\" if condition == 4  else \"Static UI with 1.5x CD Gain\"\n",
    "    \n",
    "    print(\"condition: {0} has mean duration of {1} ms\".format(cond_name, np.mean(duration_measurements)))\n",
    "    print(\"condition: {0} has median duration of {1} ms\".format(cond_name, np.median(duration_measurements)))\n",
    "    print()\n",
    "    \n",
    "    data.append(duration_measurements)\n",
    "    ticks.append(cond_name)\n",
    "\n",
    "fig = plt.figure()\n",
    "fig.suptitle('TCT Comparison between static UI and MUI variants', fontsize=14, fontweight='bold')\n",
    "\n",
    "ax = fig.add_subplot(111)\n",
    "ax.boxplot(data)\n",
    "ax.set_xlabel('UI variants')\n",
    "ax.set_ylabel('Task Completion Time in ms')\n",
    "ax.set_ylim(bottom=0)\n",
    "xticks([i + 1 for i in range(len(ticks))], ticks)\n"
   ]
  },
  {
   "cell_type": "code",
   "execution_count": 7,
   "metadata": {
    "execution": {
     "iopub.execute_input": "2021-03-04T21:53:10.828305Z",
     "iopub.status.busy": "2021-03-04T21:53:10.826437Z",
     "iopub.status.idle": "2021-03-04T21:53:10.830692Z",
     "shell.execute_reply": "2021-03-04T21:53:10.831390Z"
    },
    "scrolled": true
   },
   "outputs": [
    {
     "name": "stdout",
     "output_type": "stream",
     "text": [
      "Static UI vs Factor 0.25 MUI -> p = 0.23612321999608668\n",
      "Static UI vs Factor 0.5 MUI -> p = 0.20849994402937855\n",
      "Static UI vs Factor 0.75 MUI -> p = 0.018909657889954037\n",
      "Static UI vs Factor 0.1 MUI -> p = 0.03384816647649724\n",
      "Static UI vs Static UI with 1.5x CD Gain -> p = 0.8081913992555787\n",
      "\n",
      "Factor 0.25 MUI vs Static UI -> p = 0.23612321999608668\n",
      "Factor 0.25 MUI vs Factor 0.5 MUI -> p = 0.9382563708439564\n",
      "Factor 0.25 MUI vs Factor 0.75 MUI -> p = 0.16789914333503222\n",
      "Factor 0.25 MUI vs Factor 0.1 MUI -> p = 0.2863619392441344\n",
      "Factor 0.25 MUI vs Static UI with 1.5x CD Gain -> p = 0.367189447435571\n",
      "\n",
      "Factor 0.5 MUI vs Static UI -> p = 0.20849994402937855\n",
      "Factor 0.5 MUI vs Factor 0.25 MUI -> p = 0.9382563708439564\n",
      "Factor 0.5 MUI vs Factor 0.75 MUI -> p = 0.22270807989798475\n",
      "Factor 0.5 MUI vs Factor 0.1 MUI -> p = 0.2776766222344179\n",
      "Factor 0.5 MUI vs Static UI with 1.5x CD Gain -> p = 0.3265157775986318\n",
      "\n",
      "Factor 0.75 MUI vs Static UI -> p = 0.018909657889954037\n",
      "Factor 0.75 MUI vs Factor 0.25 MUI -> p = 0.16789914333503222\n",
      "Factor 0.75 MUI vs Factor 0.5 MUI -> p = 0.22270807989798475\n",
      "Factor 0.75 MUI vs Factor 0.1 MUI -> p = 0.9782939850032945\n",
      "Factor 0.75 MUI vs Static UI with 1.5x CD Gain -> p = 0.03792066579090825\n",
      "\n",
      "Factor 0.1 MUI vs Static UI -> p = 0.03384816647649724\n",
      "Factor 0.1 MUI vs Factor 0.25 MUI -> p = 0.2863619392441344\n",
      "Factor 0.1 MUI vs Factor 0.5 MUI -> p = 0.2776766222344179\n",
      "Factor 0.1 MUI vs Factor 0.75 MUI -> p = 0.9782939850032945\n",
      "Factor 0.1 MUI vs Static UI with 1.5x CD Gain -> p = 0.04913263452593992\n",
      "\n",
      "Static UI with 1.5x CD Gain vs Static UI -> p = 0.8081913992555787\n",
      "Static UI with 1.5x CD Gain vs Factor 0.25 MUI -> p = 0.367189447435571\n",
      "Static UI with 1.5x CD Gain vs Factor 0.5 MUI -> p = 0.3265157775986318\n",
      "Static UI with 1.5x CD Gain vs Factor 0.75 MUI -> p = 0.03792066579090825\n",
      "Static UI with 1.5x CD Gain vs Factor 0.1 MUI -> p = 0.04913263452593992\n",
      "\n"
     ]
    }
   ],
   "source": [
    "from scipy.stats import ttest_rel as ttest\n",
    "\n",
    "static_durations = durations[0]\n",
    "factor025_durations = durations[1]\n",
    "factor05_durations = durations[2]\n",
    "factor075_durations = durations[3]\n",
    "factor1_durations = durations[4]\n",
    "static15cdg_durations = durations[5]\n",
    "\n",
    "def getConditionName(cond):\n",
    "    cond_name = \"Static UI\" if cond == 0 else \"Factor 0.25 MUI\" if cond == 1 else \"Factor 0.5 MUI\" if cond == 2 else \"Factor 0.75 MUI\" if cond == 3 else \"Factor 0.1 MUI\" if cond == 4  else \"Static UI with 1.5x CD Gain\"\n",
    "    return cond_name\n",
    "    \n",
    "for cond in range(6):\n",
    "    cond_name = getConditionName(cond)\n",
    "    for condToCompare in range(6):\n",
    "        if cond != condToCompare:\n",
    "            condToCompare_name = getConditionName(condToCompare)\n",
    "            print(cond_name + \" vs \" + condToCompare_name + \" -> p = {}\".format(ttest(durations[cond], durations[condToCompare])[1]))\n",
    "    print()"
   ]
  },
  {
   "cell_type": "markdown",
   "metadata": {},
   "source": [
    "## Errors"
   ]
  },
  {
   "cell_type": "code",
   "execution_count": 8,
   "metadata": {
    "execution": {
     "iopub.execute_input": "2021-03-04T21:53:10.838668Z",
     "iopub.status.busy": "2021-03-04T21:53:10.837930Z",
     "iopub.status.idle": "2021-03-04T21:53:10.840416Z",
     "shell.execute_reply": "2021-03-04T21:53:10.840888Z"
    }
   },
   "outputs": [
    {
     "name": "stdout",
     "output_type": "stream",
     "text": [
      "Errors for Static UI: 14\n",
      "Static UI vs Factor 0.25 MUI -> p = -6.666666666666657%\n",
      "Static UI vs Factor 0.5 MUI -> p = -22.222222222222214%\n",
      "Static UI vs Factor 0.75 MUI -> p = -17.64705882352942%\n",
      "Static UI vs Factor 0.1 MUI -> p = -39.130434782608695%\n",
      "Static UI vs Static UI with 1.5x CD Gain -> p = -36.36363636363637%\n",
      "\n",
      "Errors for Factor 0.25 MUI: 15\n",
      "Factor 0.25 MUI vs Static UI -> p = 7.142857142857139%\n",
      "Factor 0.25 MUI vs Factor 0.5 MUI -> p = -16.666666666666657%\n",
      "Factor 0.25 MUI vs Factor 0.75 MUI -> p = -11.764705882352942%\n",
      "Factor 0.25 MUI vs Factor 0.1 MUI -> p = -34.78260869565217%\n",
      "Factor 0.25 MUI vs Static UI with 1.5x CD Gain -> p = -31.818181818181813%\n",
      "\n",
      "Errors for Factor 0.5 MUI: 18\n",
      "Factor 0.5 MUI vs Static UI -> p = 28.571428571428555%\n",
      "Factor 0.5 MUI vs Factor 0.25 MUI -> p = 20.0%\n",
      "Factor 0.5 MUI vs Factor 0.75 MUI -> p = 5.882352941176464%\n",
      "Factor 0.5 MUI vs Factor 0.1 MUI -> p = -21.73913043478261%\n",
      "Factor 0.5 MUI vs Static UI with 1.5x CD Gain -> p = -18.181818181818187%\n",
      "\n",
      "Errors for Factor 0.75 MUI: 17\n",
      "Factor 0.75 MUI vs Static UI -> p = 21.428571428571416%\n",
      "Factor 0.75 MUI vs Factor 0.25 MUI -> p = 13.333333333333343%\n",
      "Factor 0.75 MUI vs Factor 0.5 MUI -> p = -5.555555555555557%\n",
      "Factor 0.75 MUI vs Factor 0.1 MUI -> p = -26.08695652173914%\n",
      "Factor 0.75 MUI vs Static UI with 1.5x CD Gain -> p = -22.727272727272734%\n",
      "\n",
      "Errors for Factor 0.1 MUI: 23\n",
      "Factor 0.1 MUI vs Static UI -> p = 64.28571428571428%\n",
      "Factor 0.1 MUI vs Factor 0.25 MUI -> p = 53.33333333333334%\n",
      "Factor 0.1 MUI vs Factor 0.5 MUI -> p = 27.777777777777786%\n",
      "Factor 0.1 MUI vs Factor 0.75 MUI -> p = 35.29411764705881%\n",
      "Factor 0.1 MUI vs Static UI with 1.5x CD Gain -> p = 4.545454545454547%\n",
      "\n",
      "Errors for Static UI with 1.5x CD Gain: 22\n",
      "Static UI with 1.5x CD Gain vs Static UI -> p = 57.14285714285714%\n",
      "Static UI with 1.5x CD Gain vs Factor 0.25 MUI -> p = 46.666666666666686%\n",
      "Static UI with 1.5x CD Gain vs Factor 0.5 MUI -> p = 22.22222222222223%\n",
      "Static UI with 1.5x CD Gain vs Factor 0.75 MUI -> p = 29.411764705882348%\n",
      "Static UI with 1.5x CD Gain vs Factor 0.1 MUI -> p = -4.34782608695653%\n",
      "\n"
     ]
    }
   ],
   "source": [
    "def increase_in_percent(counter, denominator):\n",
    "    return (counter / (denominator / 100)) - 100\n",
    "\n",
    "errors = {}\n",
    "\n",
    "for condition in conditions:\n",
    "    errors[condition[0].condition] = sum([run.errors for run in condition])\n",
    "\n",
    "for cond in range(6):\n",
    "    cond_name = getConditionName(cond)\n",
    "    print(\"Errors for \" + cond_name + \": {}\".format(errors[cond]))\n",
    "    for condToCompare in range(6):\n",
    "        if cond != condToCompare:\n",
    "            condToCompare_name = getConditionName(condToCompare)\n",
    "            print(cond_name + \" vs \" + condToCompare_name + \" -> p = {}%\".format(increase_in_percent(errors[cond], errors[condToCompare])))\n",
    "    print(\"\")"
   ]
  },
  {
   "cell_type": "markdown",
   "metadata": {},
   "source": [
    "## Covered Distances"
   ]
  },
  {
   "cell_type": "code",
   "execution_count": 9,
   "metadata": {
    "execution": {
     "iopub.execute_input": "2021-03-04T21:53:10.845671Z",
     "iopub.status.busy": "2021-03-04T21:53:10.844969Z",
     "iopub.status.idle": "2021-03-04T21:53:10.846744Z",
     "shell.execute_reply": "2021-03-04T21:53:10.847425Z"
    }
   },
   "outputs": [],
   "source": [
    "# covered_distance\n",
    "mean_covered_distances_cursor = {}\n",
    "\n",
    "for condition in conditions:\n",
    "    mean_covered_distances_cursor[condition[0].condition] = sum([run.cursor_movement_length for run in condition]) / len([run.cursor_movement_length for run in condition])"
   ]
  },
  {
   "cell_type": "code",
   "execution_count": 10,
   "metadata": {
    "execution": {
     "iopub.execute_input": "2021-03-04T21:53:10.851962Z",
     "iopub.status.busy": "2021-03-04T21:53:10.851275Z",
     "iopub.status.idle": "2021-03-04T21:53:10.854021Z",
     "shell.execute_reply": "2021-03-04T21:53:10.854543Z"
    }
   },
   "outputs": [
    {
     "name": "stdout",
     "output_type": "stream",
     "text": [
      "Mean covered distance of cursor for Static UI: 356.8646836358766px\n",
      "Mean covered distance of cursor for Factor 0.25 MUI: 308.84094915734704px\n",
      "Mean covered distance of cursor for Factor 0.5 MUI: 289.5096205188403px\n",
      "Mean covered distance of cursor for Factor 0.75 MUI: 263.7497321474153px\n",
      "Mean covered distance of cursor for Factor 0.1 MUI: 241.85478666613196px\n",
      "Mean covered distance of cursor for Static UI with 1.5x CD Gain: 409.34150190187046px\n"
     ]
    }
   ],
   "source": [
    "static_mean_covered_distance = mean_covered_distances_cursor[0]\n",
    "factor05_mean_covered_distance = mean_covered_distances_cursor[1]\n",
    "factor1_mean_covered_distance = mean_covered_distances_cursor[2]\n",
    "static15cdg_mean_covered_distance = mean_covered_distances_cursor[3]\n",
    "\n",
    "\n",
    "for cond in range(6):\n",
    "    cond_name = getConditionName(cond)\n",
    "    print(\"Mean covered distance of cursor for \" + cond_name + \": {}px\".format(mean_covered_distances_cursor[cond]))"
   ]
  },
  {
   "cell_type": "markdown",
   "metadata": {},
   "source": [
    "## Most notable observation"
   ]
  },
  {
   "cell_type": "markdown",
   "metadata": {},
   "source": [
    "WIP"
   ]
  },
  {
   "cell_type": "code",
   "execution_count": null,
   "metadata": {},
   "outputs": [],
   "source": []
  },
  {
   "cell_type": "code",
   "execution_count": null,
   "metadata": {},
   "outputs": [],
   "source": []
  }
 ],
 "metadata": {
  "kernelspec": {
   "display_name": "Python 3",
   "language": "python",
   "name": "python3"
  },
  "language_info": {
   "codemirror_mode": {
    "name": "ipython",
    "version": 3
   },
   "file_extension": ".py",
   "mimetype": "text/x-python",
   "name": "python",
   "nbconvert_exporter": "python",
   "pygments_lexer": "ipython3",
   "version": "3.7.7"
  }
 },
 "nbformat": 4,
 "nbformat_minor": 4
}
